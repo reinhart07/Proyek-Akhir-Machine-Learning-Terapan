{
  "nbformat": 4,
  "nbformat_minor": 0,
  "metadata": {
    "colab": {
      "provenance": [],
      "gpuType": "T4"
    },
    "kernelspec": {
      "name": "python3",
      "display_name": "Python 3"
    },
    "language_info": {
      "name": "python"
    },
    "accelerator": "GPU"
  },
  "cells": [
    {
      "cell_type": "markdown",
      "source": [
        "# Sistem Rekomendasi Anime\n",
        "# Proyek Akhir Machine Learning - Reinhart Jens Robert\n",
        "\n",
        "## Project Overview\n",
        "\n",
        "Anime telah menjadi salah satu bentuk hiburan yang sangat populer di seluruh dunia. Dengan ribuan judul anime yang tersedia, pengguna seringkali kesulitan menemukan anime yang sesuai dengan preferensi mereka. Sistem rekomendasi dapat membantu mengatasi masalah ini dengan memberikan saran anime yang personal dan relevan.\n",
        "\n",
        "Proyek ini bertujuan untuk membangun sistem rekomendasi anime menggunakan dataset yang berisi informasi anime dan rating dari pengguna. Sistem ini akan menggunakan dua pendekatan: Content-Based Filtering dan Collaborative Filtering untuk memberikan rekomendasi yang akurat dan personal.\n",
        "\n",
        "## Business Understanding\n",
        "\n",
        "### Problem Statements\n",
        "1. Bagaimana memberikan rekomendasi anime berdasarkan karakteristik konten seperti genre, tipe, dan jumlah episode?\n",
        "\n",
        "2. Bagaimana memberikan rekomendasi berdasarkan preferensi pengguna lain yang memiliki selera serupa?\n",
        "\n",
        "3. Bagaimana mengukur kualitas rekomendasi dari sistem yang dikembangkan?\n",
        "\n",
        "### Goals\n",
        "1. Membangun sistem rekomendasi berbasis konten (Content-Based Filtering).\n",
        "\n",
        "2. Membangun sistem rekomendasi berbasis kolaboratif (Collaborative Filtering).\n",
        "\n",
        "3. Mengevaluasi performa dari kedua metode menggunakan metrik evaluasi yang sesuai.\n",
        "\n",
        "\n"
      ],
      "metadata": {
        "id": "TUFNwsfS5bK8"
      }
    },
    {
      "cell_type": "markdown",
      "source": [
        "##Solution Approach\n",
        "Untuk menjawab tujuan proyek, pendekatan berikut digunakan:\n",
        "\n",
        "1. Content-Based Filtering\n",
        "Sistem akan merekomendasikan anime berdasarkan kemiripan konten, seperti genre, type (TV, OVA, movie), dan jumlah episode. Pendekatan ini memanfaatkan teknik TF-IDF dan cosine similarity untuk mengukur kemiripan antar anime berdasarkan genre-nya.\n",
        "\n",
        "**Kelebihan:**\n",
        "\n",
        "- Tidak tergantung pada aktivitas pengguna lain.\n",
        "\n",
        "- Cocok untuk pengguna baru (cold-start user problem).\n",
        "\n",
        "**Kekurangan:**\n",
        "\n",
        "- Rekomendasi cenderung terbatas pada konten yang mirip.\n",
        "\n",
        "- Kurang adaptif terhadap perubahan selera pengguna.\n",
        "\n",
        "2. Collaborative Filtering\n",
        "\n",
        "Menggunakan pendekatan user-based collaborative filtering, sistem mencari pengguna lain dengan preferensi yang mirip untuk memberikan rekomendasi.\n",
        "\n",
        "**Kelebihan:**\n",
        "\n",
        "- Rekomendasi lebih bervariasi dan personal.\n",
        "\n",
        "- Bisa menemukan anime yang di luar preferensi eksplisit pengguna.\n",
        "\n",
        "**Kekurangan:**\n",
        "\n",
        "\n",
        "- Tidak bekerja optimal untuk pengguna baru atau item yang belum pernah dirating (cold-start item problem).\n",
        "\n",
        "- Butuh data rating yang cukup banyak dan bersih."
      ],
      "metadata": {
        "id": "RL1wLXRkkADP"
      }
    },
    {
      "cell_type": "markdown",
      "source": [
        "## Data Understanding\n",
        "\n",
        "### Import Libraries\n"
      ],
      "metadata": {
        "id": "0c0YB7vq-kqw"
      }
    },
    {
      "cell_type": "code",
      "execution_count": null,
      "metadata": {
        "id": "c3zIznqU5WCg"
      },
      "outputs": [],
      "source": [
        "### Import Libraries\n",
        "\n",
        "import pandas as pd\n",
        "import numpy as np\n",
        "import matplotlib.pyplot as plt\n",
        "import seaborn as sns\n",
        "from sklearn.feature_extraction.text import TfidfVectorizer\n",
        "from sklearn.metrics.pairwise import cosine_similarity\n",
        "from sklearn.model_selection import train_test_split\n",
        "from sklearn.metrics import mean_squared_error\n",
        "import warnings\n",
        "warnings.filterwarnings('ignore')\n",
        "\n",
        "# Set style untuk visualisasi\n",
        "plt.style.use('seaborn-v0_8')\n",
        "sns.set_palette(\"husl\")"
      ]
    },
    {
      "cell_type": "markdown",
      "source": [
        "### Load Dataset"
      ],
      "metadata": {
        "id": "Nv5LjNuc-ptN"
      }
    },
    {
      "cell_type": "code",
      "source": [
        "# Load dataset anime dan rating\n",
        "anime_df = pd.read_csv('/content/anime.csv')\n",
        "rating_df = pd.read_csv('/content/rating.csv')\n",
        "\n",
        "print(\"Dataset Anime:\")\n",
        "print(f\"Shape: {anime_df.shape}\")\n",
        "print(f\"Columns: {anime_df.columns.tolist()}\")\n",
        "print(\"\\nDataset Rating:\")\n",
        "print(f\"Shape: {rating_df.shape}\")\n",
        "print(f\"Columns: {rating_df.columns.tolist()}\")"
      ],
      "metadata": {
        "colab": {
          "base_uri": "https://localhost:8080/"
        },
        "id": "JVwdwyo15z_Q",
        "outputId": "53f77580-6b97-402c-85a3-f00e3c76dad2"
      },
      "execution_count": null,
      "outputs": [
        {
          "output_type": "stream",
          "name": "stdout",
          "text": [
            "Dataset Anime:\n",
            "Shape: (12294, 7)\n",
            "Columns: ['anime_id', 'name', 'genre', 'type', 'episodes', 'rating', 'members']\n",
            "\n",
            "Dataset Rating:\n",
            "Shape: (7813737, 3)\n",
            "Columns: ['user_id', 'anime_id', 'rating']\n"
          ]
        }
      ]
    },
    {
      "cell_type": "markdown",
      "source": [
        "**Dataset**\n",
        "\n",
        "Proyek ini menggunakan dua dataset:\n",
        "\n",
        "- Anime Dataset: Berisi informasi tentang anime seperti anime_id, name, genre, type, episodes, rating, dan members.\n",
        "\n",
        "- Rating Dataset: Berisi data penilaian yang diberikan pengguna terhadap anime dengan kolom user_id, anime_id, dan rating.\n",
        "\n",
        "Sumber data: https://www.kaggle.com/datasets/CooperUnion/anime-recommendations-database"
      ],
      "metadata": {
        "id": "TYPgcTEgco6M"
      }
    },
    {
      "cell_type": "markdown",
      "source": [
        "**Ukuran Dataset**\n",
        "- anime.csv :  12294 baris × 7 kolom\n",
        "\n",
        "- rating.csv : 781373 baris × 3 kolom"
      ],
      "metadata": {
        "id": "0ztDCtRBdBGS"
      }
    },
    {
      "cell_type": "markdown",
      "source": [
        "### Exploratory Data Analysis"
      ],
      "metadata": {
        "id": "6L__8hvD6S-Z"
      }
    },
    {
      "cell_type": "code",
      "source": [
        "# Informasi dasar dataset anime\n",
        "print(\"=== INFORMASI DATASET ANIME ===\")\n",
        "print(anime_df.info())\n",
        "print(\"\\n=== STATISTIK DESKRIPTIF ===\")\n",
        "print(anime_df.describe())\n",
        "\n",
        "# Informasi dasar dataset rating\n",
        "print(\"\\n=== INFORMASI DATASET RATING ===\")\n",
        "print(rating_df.info())\n",
        "print(\"\\n=== STATISTIK DESKRIPTIF ===\")\n",
        "print(rating_df.describe())"
      ],
      "metadata": {
        "colab": {
          "base_uri": "https://localhost:8080/"
        },
        "id": "Cdp1proh6UL3",
        "outputId": "3820df6f-bde7-4814-d109-e0eea640192c"
      },
      "execution_count": null,
      "outputs": [
        {
          "output_type": "stream",
          "name": "stdout",
          "text": [
            "=== INFORMASI DATASET ANIME ===\n",
            "<class 'pandas.core.frame.DataFrame'>\n",
            "RangeIndex: 12294 entries, 0 to 12293\n",
            "Data columns (total 7 columns):\n",
            " #   Column    Non-Null Count  Dtype  \n",
            "---  ------    --------------  -----  \n",
            " 0   anime_id  12294 non-null  int64  \n",
            " 1   name      12294 non-null  object \n",
            " 2   genre     12232 non-null  object \n",
            " 3   type      12269 non-null  object \n",
            " 4   episodes  12294 non-null  object \n",
            " 5   rating    12064 non-null  float64\n",
            " 6   members   12294 non-null  int64  \n",
            "dtypes: float64(1), int64(2), object(4)\n",
            "memory usage: 672.5+ KB\n",
            "None\n",
            "\n",
            "=== STATISTIK DESKRIPTIF ===\n",
            "           anime_id        rating       members\n",
            "count  12294.000000  12064.000000  1.229400e+04\n",
            "mean   14058.221653      6.473902  1.807134e+04\n",
            "std    11455.294701      1.026746  5.482068e+04\n",
            "min        1.000000      1.670000  5.000000e+00\n",
            "25%     3484.250000      5.880000  2.250000e+02\n",
            "50%    10260.500000      6.570000  1.550000e+03\n",
            "75%    24794.500000      7.180000  9.437000e+03\n",
            "max    34527.000000     10.000000  1.013917e+06\n",
            "\n",
            "=== INFORMASI DATASET RATING ===\n",
            "<class 'pandas.core.frame.DataFrame'>\n",
            "RangeIndex: 1967911 entries, 0 to 1967910\n",
            "Data columns (total 3 columns):\n",
            " #   Column    Dtype  \n",
            "---  ------    -----  \n",
            " 0   user_id   int64  \n",
            " 1   anime_id  float64\n",
            " 2   rating    float64\n",
            "dtypes: float64(2), int64(1)\n",
            "memory usage: 45.0 MB\n",
            "None\n",
            "\n",
            "=== STATISTIK DESKRIPTIF ===\n",
            "            user_id      anime_id        rating\n",
            "count  1.967911e+06  1.967910e+06  1.967910e+06\n",
            "mean   9.461223e+03  9.350219e+03  6.136276e+00\n",
            "std    5.454473e+03  9.081270e+03  3.732204e+00\n",
            "min    1.000000e+00  1.000000e+00 -1.000000e+00\n",
            "25%    5.007000e+03  1.448000e+03  5.000000e+00\n",
            "50%    9.122000e+03  6.637000e+03  7.000000e+00\n",
            "75%    1.415200e+04  1.496700e+04  9.000000e+00\n",
            "max    1.909400e+04  3.447500e+04  1.000000e+01\n"
          ]
        }
      ]
    },
    {
      "cell_type": "code",
      "source": [
        "# Cek missing values\n",
        "print(\"\\n=== MISSING VALUES ===\")\n",
        "print(\"Anime dataset:\")\n",
        "print(anime_df.isnull().sum())\n",
        "print(\"\\nRating dataset:\")\n",
        "print(rating_df.isnull().sum())\n",
        "\n",
        "# Cek duplikasi\n",
        "print(f\"\\nDuplikasi di anime dataset: {anime_df.duplicated().sum()}\")\n",
        "print(f\"Duplikasi di rating dataset: {rating_df.duplicated().sum()}\")\n",
        "\n",
        "# Sample data\n",
        "print(\"\\n=== SAMPLE DATA ANIME ===\")\n",
        "print(anime_df.head())\n",
        "print(\"\\n=== SAMPLE DATA RATING ===\")\n",
        "print(rating_df.head())\n"
      ],
      "metadata": {
        "colab": {
          "base_uri": "https://localhost:8080/"
        },
        "id": "lQqFqDhQ6bVv",
        "outputId": "529864dd-bb9b-4114-dd02-4af68dce10a0"
      },
      "execution_count": null,
      "outputs": [
        {
          "output_type": "stream",
          "name": "stdout",
          "text": [
            "\n",
            "=== MISSING VALUES ===\n",
            "Anime dataset:\n",
            "anime_id      0\n",
            "name          0\n",
            "genre        62\n",
            "type         25\n",
            "episodes      0\n",
            "rating      230\n",
            "members       0\n",
            "dtype: int64\n",
            "\n",
            "Rating dataset:\n",
            "user_id     0\n",
            "anime_id    1\n",
            "rating      1\n",
            "dtype: int64\n",
            "\n",
            "Duplikasi di anime dataset: 0\n",
            "Duplikasi di rating dataset: 0\n",
            "\n",
            "=== SAMPLE DATA ANIME ===\n",
            "   anime_id                              name  \\\n",
            "0     32281                    Kimi no Na wa.   \n",
            "1      5114  Fullmetal Alchemist: Brotherhood   \n",
            "2     28977                          Gintama°   \n",
            "3      9253                       Steins;Gate   \n",
            "4      9969                     Gintama&#039;   \n",
            "\n",
            "                                               genre   type episodes  rating  \\\n",
            "0               Drama, Romance, School, Supernatural  Movie        1    9.37   \n",
            "1  Action, Adventure, Drama, Fantasy, Magic, Mili...     TV       64    9.26   \n",
            "2  Action, Comedy, Historical, Parody, Samurai, S...     TV       51    9.25   \n",
            "3                                   Sci-Fi, Thriller     TV       24    9.17   \n",
            "4  Action, Comedy, Historical, Parody, Samurai, S...     TV       51    9.16   \n",
            "\n",
            "   members  \n",
            "0   200630  \n",
            "1   793665  \n",
            "2   114262  \n",
            "3   673572  \n",
            "4   151266  \n",
            "\n",
            "=== SAMPLE DATA RATING ===\n",
            "   user_id  anime_id  rating\n",
            "0        1      20.0    -1.0\n",
            "1        1      24.0    -1.0\n",
            "2        1      79.0    -1.0\n",
            "3        1     226.0    -1.0\n",
            "4        1     241.0    -1.0\n"
          ]
        }
      ]
    },
    {
      "cell_type": "markdown",
      "source": [
        "###Cek Kondisi Data\n",
        "1. Missing values:\n",
        "\n",
        "- Dataset anime memiliki nilai kosong pada kolom genre, rating, dan episodes.\n",
        "\n",
        "- Dataset rating memiliki beberapa rating bernilai -1 yang menandakan pengguna belum menonton anime tersebut.\n",
        "\n",
        "2. Data duplikat:\n",
        "\n",
        "- Dataset anime: 0 duplikat.\n",
        "\n",
        "- Dataset rating: 0 duplikat.\n",
        "\n",
        "3. Outlier:\n",
        "\n",
        "- Akan dijelaskan lebih lanjut pada bagian Data Preparation.\n",
        "\n",
        "=== PENJELASAN VARIABEL ===\n",
        "Dataset Anime (anime.csv):\n",
        "- anime_id: ID unik untuk setiap anime\n",
        "- name: Nama anime\n",
        "- genre: Genre anime (dipisahkan koma)\n",
        "- type: Tipe anime (TV, Movie, OVA, dll)\n",
        "- episodes: Jumlah episode\n",
        "- rating: Rating rata-rata anime\n",
        "- members: Jumlah anggota komunitas yang menambahkan anime ke daftar mereka\n",
        "\n",
        "Dataset Rating (rating.csv):\n",
        "- user_id: ID unik pengguna\n",
        "- anime_id: ID anime yang dirating\n",
        "- rating: Rating yang diberikan pengguna (1-10, -1 jika tidak memberikan rating)"
      ],
      "metadata": {
        "id": "LuoX4abyB15J"
      }
    },
    {
      "cell_type": "markdown",
      "source": [
        "### Visualisasi Data"
      ],
      "metadata": {
        "id": "pad6mbTR6ntw"
      }
    },
    {
      "cell_type": "code",
      "source": [
        "# Setup untuk subplot\n",
        "fig, axes = plt.subplots(2, 2, figsize=(15, 12))\n",
        "\n",
        "# 1. Distribusi rating anime\n",
        "axes[0,0].hist(anime_df['rating'].dropna(), bins=30, alpha=0.7, edgecolor='black')\n",
        "axes[0,0].set_title('Distribusi Rating Anime')\n",
        "axes[0,0].set_xlabel('Rating')\n",
        "axes[0,0].set_ylabel('Frekuensi')\n",
        "\n",
        "# 2. Distribusi type anime\n",
        "type_counts = anime_df['type'].value_counts()\n",
        "axes[0,1].pie(type_counts.values, labels=type_counts.index, autopct='%1.1f%%')\n",
        "axes[0,1].set_title('Distribusi Type Anime')\n"
      ],
      "metadata": {
        "colab": {
          "base_uri": "https://localhost:8080/",
          "height": 608
        },
        "id": "DpHEBMCM6ks7",
        "outputId": "dc217abe-fed7-4a93-9190-8425218e9ece"
      },
      "execution_count": null,
      "outputs": [
        {
          "output_type": "execute_result",
          "data": {
            "text/plain": [
              "Text(0.5, 1.0, 'Distribusi Type Anime')"
            ]
          },
          "metadata": {},
          "execution_count": 6
        },
        {
          "output_type": "display_data",
          "data": {
            "text/plain": [
              "<Figure size 1500x1200 with 4 Axes>"
            ],
            "image/png": "[encoded data removed]"
          },
          "metadata": {}
        }
      ]
    },
    {
      "cell_type": "code",
      "source": [
        "# 3. Top 10 genre\n",
        "# Ekstrak genre dan hitung frekuensi\n",
        "all_genres = []\n",
        "for genres in anime_df['genre'].dropna():\n",
        "    if isinstance(genres, str):\n",
        "        genre_list = [g.strip() for g in genres.split(',')]\n",
        "        all_genres.extend(genre_list)\n",
        "\n",
        "genre_counts = pd.Series(all_genres).value_counts().head(10)\n",
        "axes[1,0].barh(genre_counts.index[::-1], genre_counts.values[::-1])\n",
        "axes[1,0].set_title('Top 10 Genre Anime')\n",
        "axes[1,0].set_xlabel('Frekuensi')"
      ],
      "metadata": {
        "colab": {
          "base_uri": "https://localhost:8080/"
        },
        "id": "WJaQ6qOa6zm7",
        "outputId": "f005dd70-4232-4245-c9aa-bc70398e0048"
      },
      "execution_count": null,
      "outputs": [
        {
          "output_type": "execute_result",
          "data": {
            "text/plain": [
              "Text(0.5, 4.444444444444452, 'Frekuensi')"
            ]
          },
          "metadata": {},
          "execution_count": 7
        }
      ]
    },
    {
      "cell_type": "code",
      "source": [
        "# 4. Distribusi user rating\n",
        "axes[1,1].hist(rating_df['rating'], bins=20, alpha=0.7, edgecolor='black')\n",
        "axes[1,1].set_title('Distribusi Rating dari User')\n",
        "axes[1,1].set_xlabel('Rating')\n",
        "axes[1,1].set_ylabel('Frekuensi')\n",
        "\n",
        "plt.tight_layout()\n",
        "plt.show()\n",
        "\n",
        "# Statistik tambahan\n",
        "print(\"=== STATISTIK TAMBAHAN ===\")\n",
        "print(f\"Jumlah anime unik: {anime_df['anime_id'].nunique()}\")\n",
        "print(f\"Jumlah user unik: {rating_df['user_id'].nunique()}\")\n",
        "print(f\"Total rating: {len(rating_df)}\")\n",
        "print(f\"Rata-rata rating per anime: {len(rating_df) / anime_df['anime_id'].nunique():.2f}\")\n",
        "print(f\"Rata-rata rating per user: {len(rating_df) / rating_df['user_id'].nunique():.2f}\")"
      ],
      "metadata": {
        "colab": {
          "base_uri": "https://localhost:8080/",
          "height": 139
        },
        "id": "k6q4_Fdx64Ke",
        "outputId": "42a8a7ad-2b91-45a7-c8e3-b0f6fa23634d"
      },
      "execution_count": null,
      "outputs": [
        {
          "output_type": "display_data",
          "data": {
            "text/plain": [
              "<Figure size 800x550 with 0 Axes>"
            ]
          },
          "metadata": {}
        },
        {
          "output_type": "stream",
          "name": "stdout",
          "text": [
            "=== STATISTIK TAMBAHAN ===\n",
            "Jumlah anime unik: 12294\n",
            "Jumlah user unik: 19094\n",
            "Total rating: 1967911\n",
            "Rata-rata rating per anime: 160.07\n",
            "Rata-rata rating per user: 103.06\n"
          ]
        }
      ]
    },
    {
      "cell_type": "markdown",
      "source": [
        "### Pembersihan Data"
      ],
      "metadata": {
        "id": "zjS-9JTz7Edb"
      }
    },
    {
      "cell_type": "code",
      "source": [
        "# 1. Handle missing values pada dataset anime\n",
        "print(\"=== HANDLING MISSING VALUES ===\")\n",
        "\n",
        "# Cek missing values pada kolom rating dan genre\n",
        "print(f\"Missing values di kolom 'rating': {anime_df['rating'].isnull().sum()}\")\n",
        "print(f\"Missing values di kolom 'genre': {anime_df['genre'].isnull().sum()}\")\n",
        "\n",
        "# Drop anime dengan rating kosong untuk content-based filtering\n",
        "anime_clean = anime_df.dropna(subset=['rating']).copy()\n",
        "print(f\"Shape setelah drop missing rating: {anime_clean.shape}\")\n",
        "\n",
        "# Fill missing genre dengan 'Unknown'\n",
        "anime_clean['genre'] = anime_clean['genre'].fillna('Unknown')"
      ],
      "metadata": {
        "colab": {
          "base_uri": "https://localhost:8080/"
        },
        "id": "Xyv2F0dv677T",
        "outputId": "987e2528-fabb-4ee5-de78-a451b5bb4a31"
      },
      "execution_count": null,
      "outputs": [
        {
          "output_type": "stream",
          "name": "stdout",
          "text": [
            "=== HANDLING MISSING VALUES ===\n",
            "Missing values di kolom 'rating': 230\n",
            "Missing values di kolom 'genre': 62\n",
            "Shape setelah drop missing rating: (12064, 7)\n"
          ]
        }
      ]
    },
    {
      "cell_type": "code",
      "source": [
        "# 2. Handle rating -1 pada dataset rating (menandakan user tidak memberikan rating)\n",
        "print(f\"\\nRating -1 dalam dataset: {(rating_df['rating'] == -1).sum()}\")\n",
        "\n",
        "# Filter rating yang valid (1-10)\n",
        "rating_clean = rating_df[rating_df['rating'] != -1].copy()\n",
        "print(f\"Shape rating setelah filter: {rating_clean.shape}\")"
      ],
      "metadata": {
        "colab": {
          "base_uri": "https://localhost:8080/"
        },
        "id": "0IuFSzC77G2o",
        "outputId": "f040da3b-aeee-4b12-a322-d6546ec56b83"
      },
      "execution_count": null,
      "outputs": [
        {
          "output_type": "stream",
          "name": "stdout",
          "text": [
            "\n",
            "Rating -1 dalam dataset: 373148\n",
            "Shape rating setelah filter: (1594763, 3)\n"
          ]
        }
      ]
    },
    {
      "cell_type": "code",
      "source": [
        "# 3. Filter anime yang ada di kedua dataset\n",
        "common_anime_ids = set(anime_clean['anime_id']).intersection(set(rating_clean['anime_id']))\n",
        "anime_final = anime_clean[anime_clean['anime_id'].isin(common_anime_ids)].copy()\n",
        "rating_final = rating_clean[rating_clean['anime_id'].isin(common_anime_ids)].copy()\n",
        "\n",
        "print(f\"Anime setelah filter common IDs: {anime_final.shape}\")\n",
        "print(f\"Rating setelah filter common IDs: {rating_final.shape}\")"
      ],
      "metadata": {
        "colab": {
          "base_uri": "https://localhost:8080/"
        },
        "id": "s4lpSF2W7QAz",
        "outputId": "d362af93-c00c-44e1-80f5-794e9407d1e6"
      },
      "execution_count": null,
      "outputs": [
        {
          "output_type": "stream",
          "name": "stdout",
          "text": [
            "Anime setelah filter common IDs: (9000, 7)\n",
            "Rating setelah filter common IDs: (1594762, 3)\n"
          ]
        }
      ]
    },
    {
      "cell_type": "markdown",
      "source": [
        "#Data Preparation\n",
        "\n",
        "=== ALASAN PREPROCESSING ===\n",
        "1. Membersihkan rating yang tidak valid (-1)\n",
        "2. Mengisi genre kosong agar dapat diproses oleh TF-IDF\n",
        "3. Filter anime dan user untuk mengurangi sparsity\n",
        "4. Gabungkan dataset rating dan anime untuk kebutuhan modeling"
      ],
      "metadata": {
        "id": "njO9jRdufzK_"
      }
    },
    {
      "cell_type": "markdown",
      "source": [
        "###Content-Based Filtering\n",
        "1. Genre diproses menjadi format teks yang dapat dianalisis menggunakan TF-IDF.\n",
        "\n",
        "2. Genre kosong diisi dengan 'Unknown'.\n",
        "\n",
        "3. Token genre diubah menjadi lowercase dan underscore (action, comedy → action comedy → action_comedy)"
      ],
      "metadata": {
        "id": "_pKy3nHcgJ17"
      }
    },
    {
      "cell_type": "markdown",
      "source": [
        "### Preprocessing untuk Content-Based Filtering\n"
      ],
      "metadata": {
        "id": "CEyFJsD27TdK"
      }
    },
    {
      "cell_type": "code",
      "source": [
        "# 1. Preprocessing genre untuk TF-IDF\n",
        "def preprocess_genre(genre_str):\n",
        "    \"\"\"Preprocessing string genre untuk TF-IDF\"\"\"\n",
        "    if pd.isna(genre_str) or genre_str == 'Unknown':\n",
        "        return 'unknown'\n",
        "    # Bersihkan dan standardisasi genre\n",
        "    genres = [g.strip().lower().replace(' ', '_') for g in genre_str.split(',')]\n",
        "    return ' '.join(genres)\n",
        "\n",
        "anime_final['genre_processed'] = anime_final['genre'].apply(preprocess_genre)"
      ],
      "metadata": {
        "id": "UYu0Qizk7TF6"
      },
      "execution_count": null,
      "outputs": []
    },
    {
      "cell_type": "code",
      "source": [
        "# 2. Buat feature gabungan untuk content-based\n",
        "anime_final['content_features'] = anime_final['genre_processed'] + ' ' + anime_final['type'].fillna('').str.lower()\n",
        "\n",
        "print(\"=== SAMPLE PREPROCESSED DATA ===\")\n",
        "print(anime_final[['name', 'genre', 'genre_processed', 'content_features']].head())"
      ],
      "metadata": {
        "colab": {
          "base_uri": "https://localhost:8080/"
        },
        "id": "FX3_0rex7cEY",
        "outputId": "dca548b9-1d80-421f-c0ff-ca61b73a048d"
      },
      "execution_count": null,
      "outputs": [
        {
          "output_type": "stream",
          "name": "stdout",
          "text": [
            "=== SAMPLE PREPROCESSED DATA ===\n",
            "                               name  \\\n",
            "0                    Kimi no Na wa.   \n",
            "1  Fullmetal Alchemist: Brotherhood   \n",
            "2                          Gintama°   \n",
            "3                       Steins;Gate   \n",
            "4                     Gintama&#039;   \n",
            "\n",
            "                                               genre  \\\n",
            "0               Drama, Romance, School, Supernatural   \n",
            "1  Action, Adventure, Drama, Fantasy, Magic, Mili...   \n",
            "2  Action, Comedy, Historical, Parody, Samurai, S...   \n",
            "3                                   Sci-Fi, Thriller   \n",
            "4  Action, Comedy, Historical, Parody, Samurai, S...   \n",
            "\n",
            "                                     genre_processed  \\\n",
            "0                  drama romance school supernatural   \n",
            "1  action adventure drama fantasy magic military ...   \n",
            "2  action comedy historical parody samurai sci-fi...   \n",
            "3                                    sci-fi thriller   \n",
            "4  action comedy historical parody samurai sci-fi...   \n",
            "\n",
            "                                    content_features  \n",
            "0            drama romance school supernatural movie  \n",
            "1  action adventure drama fantasy magic military ...  \n",
            "2  action comedy historical parody samurai sci-fi...  \n",
            "3                                 sci-fi thriller tv  \n",
            "4  action comedy historical parody samurai sci-fi...  \n"
          ]
        }
      ]
    },
    {
      "cell_type": "markdown",
      "source": [
        "###Collaborative Filtering\n",
        "\n",
        "1. Hapus rating -1\n",
        "\n",
        "2. Hanya ambil anime yang dirating lebih dari 50 kali dan user yang memberi lebih dari 10 rating\n",
        "\n",
        "3. Gabungkan dengan data anime untuk referensi nama anime saat prediksi"
      ],
      "metadata": {
        "id": "GYYbKT_AgZ_A"
      }
    },
    {
      "cell_type": "markdown",
      "source": [
        "### Preprocessing untuk Collaborative Filtering\n"
      ],
      "metadata": {
        "id": "K5FdtLaq7gpX"
      }
    },
    {
      "cell_type": "code",
      "source": [
        "# 1. Filter user dan anime dengan minimal interaksi\n",
        "min_user_ratings = 50  # User minimal rating 50 anime\n",
        "min_anime_ratings = 20  # Anime minimal dirating 20 user\n",
        "\n",
        "# Hitung jumlah rating per user dan per anime\n",
        "user_counts = rating_final['user_id'].value_counts()\n",
        "anime_counts = rating_final['anime_id'].value_counts()\n",
        "\n",
        "# Filter berdasarkan threshold\n",
        "active_users = user_counts[user_counts >= min_user_ratings].index\n",
        "popular_anime = anime_counts[anime_counts >= min_anime_ratings].index\n",
        "\n",
        "# Apply filter\n",
        "rating_filtered = rating_final[\n",
        "    (rating_final['user_id'].isin(active_users)) &\n",
        "    (rating_final['anime_id'].isin(popular_anime))\n",
        "].copy()\n",
        "\n",
        "print(f\"=== COLLABORATIVE FILTERING DATA ===\")\n",
        "print(f\"Active users: {len(active_users)}\")\n",
        "print(f\"Popular anime: {len(popular_anime)}\")\n",
        "print(f\"Filtered ratings: {rating_filtered.shape}\")"
      ],
      "metadata": {
        "colab": {
          "base_uri": "https://localhost:8080/"
        },
        "id": "kVGzqTxm7fzI",
        "outputId": "c6f26475-4916-4ba1-df09-7617aa67511a"
      },
      "execution_count": null,
      "outputs": [
        {
          "output_type": "stream",
          "name": "stdout",
          "text": [
            "=== COLLABORATIVE FILTERING DATA ===\n",
            "Active users: 8471\n",
            "Popular anime: 4407\n",
            "Filtered ratings: (1401387, 3)\n"
          ]
        }
      ]
    },
    {
      "cell_type": "code",
      "source": [
        "# 2. Buat user-item matrix\n",
        "user_item_matrix = rating_filtered.pivot_table(\n",
        "    index='user_id',\n",
        "    columns='anime_id',\n",
        "    values='rating'\n",
        ").fillna(0)\n",
        "\n",
        "print(f\"User-item matrix shape: {user_item_matrix.shape}\")\n",
        "\n",
        "# Sparsity analysis\n",
        "total_possible_ratings = user_item_matrix.shape[0] * user_item_matrix.shape[1]\n",
        "actual_ratings = (user_item_matrix != 0).sum().sum()\n",
        "sparsity = (1 - actual_ratings / total_possible_ratings) * 100\n",
        "\n",
        "print(f\"Matrix sparsity: {sparsity:.2f}%\")"
      ],
      "metadata": {
        "colab": {
          "base_uri": "https://localhost:8080/"
        },
        "id": "HDCAOYe67nL5",
        "outputId": "17288a11-0832-483f-f1b8-e5c98fb98a73"
      },
      "execution_count": null,
      "outputs": [
        {
          "output_type": "stream",
          "name": "stdout",
          "text": [
            "User-item matrix shape: (8471, 4407)\n",
            "Matrix sparsity: 96.25%\n"
          ]
        }
      ]
    },
    {
      "cell_type": "markdown",
      "source": [
        "## Modeling and Result"
      ],
      "metadata": {
        "id": "VzOX1YdI7rIN"
      }
    },
    {
      "cell_type": "markdown",
      "source": [
        "### 1. Content-Based Filtering\n",
        "- Genre diolah dengan TF-IDF Vectorizer.\n",
        "\n",
        "- Kemiripan antar anime dihitung menggunakan cosine similarity.\n",
        "\n",
        "- Sistem memberikan rekomendasi anime berdasarkan kemiripan genre."
      ],
      "metadata": {
        "id": "KZKN6R0u7t3S"
      }
    },
    {
      "cell_type": "code",
      "source": [
        "class ContentBasedRecommender:\n",
        "    def __init__(self, anime_df):\n",
        "        self.anime_df = anime_df\n",
        "        self.tfidf_matrix = None\n",
        "        self.cosine_sim = None\n",
        "        self.indices = pd.Series(anime_df.index, index=anime_df['name']).drop_duplicates()\n",
        "\n",
        "    def fit(self):\n",
        "        \"\"\"Train content-based model menggunakan TF-IDF dan cosine similarity\"\"\"\n",
        "        # Inisialisasi TF-IDF Vectorizer\n",
        "        tfidf = TfidfVectorizer(stop_words='english', max_features=5000)\n",
        "\n",
        "        # Fit dan transform content features\n",
        "        self.tfidf_matrix = tfidf.fit_transform(self.anime_df['content_features'])\n",
        "\n",
        "        # Hitung cosine similarity\n",
        "        self.cosine_sim = cosine_similarity(self.tfidf_matrix, self.tfidf_matrix)\n",
        "\n",
        "        print(f\"TF-IDF matrix shape: {self.tfidf_matrix.shape}\")\n",
        "        print(\"Content-based model trained successfully!\")\n",
        "\n",
        "    def get_recommendations(self, anime_name, n_recommendations=10):\n",
        "        \"\"\"Dapatkan rekomendasi berdasarkan nama anime\"\"\"\n",
        "        try:\n",
        "            # Dapatkan index anime\n",
        "            idx = self.indices[anime_name]\n",
        "\n",
        "            # Hitung similarity scores\n",
        "            sim_scores = list(enumerate(self.cosine_sim[idx]))\n",
        "\n",
        "            # Sort berdasarkan similarity score\n",
        "            sim_scores = sorted(sim_scores, key=lambda x: x[1], reverse=True)\n",
        "\n",
        "            # Ambil top N (exclude anime itu sendiri)\n",
        "            sim_scores = sim_scores[1:n_recommendations+1]\n",
        "\n",
        "            # Dapatkan indices anime\n",
        "            anime_indices = [i[0] for i in sim_scores]\n",
        "\n",
        "            # Return rekomendasi\n",
        "            recommendations = self.anime_df.iloc[anime_indices][['name', 'genre', 'type', 'rating']].copy()\n",
        "            recommendations['similarity_score'] = [score[1] for score in sim_scores]\n",
        "\n",
        "            return recommendations\n",
        "\n",
        "        except KeyError:\n",
        "            print(f\"Anime '{anime_name}' tidak ditemukan dalam dataset\")\n",
        "            return None\n",
        "\n",
        "# Inisialisasi dan training content-based recommender\n",
        "cb_recommender = ContentBasedRecommender(anime_final)\n",
        "cb_recommender.fit()\n",
        "\n",
        "# Test content-based recommendation\n",
        "test_anime = \"Death Note\"\n",
        "print(f\"=== CONTENT-BASED RECOMMENDATIONS FOR '{test_anime}' ===\")\n",
        "cb_recommendations = cb_recommender.get_recommendations(test_anime, n_recommendations=10)\n",
        "if cb_recommendations is not None:\n",
        "    print(cb_recommendations)"
      ],
      "metadata": {
        "colab": {
          "base_uri": "https://localhost:8080/"
        },
        "id": "CNul9AyF7utW",
        "outputId": "417e29ad-68db-44ad-c4f0-bc740aa67d1c"
      },
      "execution_count": null,
      "outputs": [
        {
          "output_type": "stream",
          "name": "stdout",
          "text": [
            "TF-IDF matrix shape: (9000, 50)\n",
            "Content-based model trained successfully!\n",
            "=== CONTENT-BASED RECOMMENDATIONS FOR 'Death Note' ===\n",
            "                                                name                    genre  \\\n",
            "6664                                  Otaku no Seiza           Comedy, Parody   \n",
            "6842                                  Lupin Shanshei           Comedy, Parody   \n",
            "4462                Mobile Police Patlabor: MiniPato                   Parody   \n",
            "5469  Scramble Wars: Tsuppashire! Genom Trophy Rally                   Parody   \n",
            "3197                         CB Chara Go Nagai World   Action, Comedy, Parody   \n",
            "3204                                     Dragon Half  Comedy, Fantasy, Parody   \n",
            "5134              Code Geass: Nunnally in Wonderland  Comedy, Fantasy, Parody   \n",
            "3195         Animation Seisaku Shinkou Kuromi-chan 2    Comedy, Drama, Parody   \n",
            "3239           Animation Seisaku Shinkou Kuromi-chan    Comedy, Drama, Parody   \n",
            "575                    Goku Sayonara Zetsubou Sensei   Comedy, Parody, School   \n",
            "\n",
            "     type  rating  similarity_score  \n",
            "6664  OVA    6.01          1.000000  \n",
            "6842  OVA    5.90          1.000000  \n",
            "4462  OVA    6.72          0.930131  \n",
            "5469  OVA    6.45          0.930131  \n",
            "3197  OVA    7.05          0.916731  \n",
            "3204  OVA    7.05          0.895510  \n",
            "5134  OVA    6.54          0.895510  \n",
            "3195  OVA    7.05          0.889191  \n",
            "3239  OVA    7.04          0.889191  \n",
            "575   OVA    7.96          0.860695  \n"
          ]
        }
      ]
    },
    {
      "cell_type": "markdown",
      "source": [
        "Contoh Output Rekomendasi untuk Death Note:\n",
        "\n",
        "name                      genre  \\\n",
        "1. Otaku no Seiza  =         Comedy, Parody   \n",
        "2. Lupin Shanshei = Comedy, Parody\n",
        "3. Mobile Police Patlabor: MiniPato = Parody\n",
        "4. Scramble Wars: Tsuppashire! Genom Trophy Rally = Parody\n",
        "5. CB Chara Go Nagai World = Action, Comedy, Parody"
      ],
      "metadata": {
        "id": "_2rwOVwkhVQZ"
      }
    },
    {
      "cell_type": "markdown",
      "source": [
        "### 2. Collaborative Filtering (User-Based)\n",
        "- Model: Singular Value Decomposition (SVD) dari library Surprise.\n",
        "\n",
        "- Data dibagi menjadi training dan testing set.\n",
        "\n",
        "- Model dilatih untuk memprediksi rating pengguna.\n",
        "\n",
        "Contoh Output Rekomendasi untuk user_id = 1:"
      ],
      "metadata": {
        "id": "-jfG4v8Y79sg"
      }
    },
    {
      "cell_type": "code",
      "source": [
        "class CollaborativeFilteringRecommender:\n",
        "    def __init__(self, user_item_matrix, anime_df):\n",
        "        self.user_item_matrix = user_item_matrix\n",
        "        self.anime_df = anime_df\n",
        "        self.user_similarity = None\n",
        "\n",
        "    def fit(self):\n",
        "        \"\"\"Train collaborative filtering model menggunakan user-user similarity\"\"\"\n",
        "        # Hitung user similarity menggunakan cosine similarity\n",
        "        self.user_similarity = cosine_similarity(self.user_item_matrix)\n",
        "\n",
        "        print(f\"User similarity matrix shape: {self.user_similarity.shape}\")\n",
        "        print(\"Collaborative filtering model trained successfully!\")\n",
        "\n",
        "    def get_user_recommendations(self, user_id, n_recommendations=10):\n",
        "        \"\"\"Dapatkan rekomendasi untuk user tertentu\"\"\"\n",
        "        if user_id not in self.user_item_matrix.index:\n",
        "            print(f\"User {user_id} tidak ditemukan\")\n",
        "            return None\n",
        "\n",
        "        # Dapatkan index user dalam matrix\n",
        "        user_idx = self.user_item_matrix.index.get_loc(user_id)\n",
        "\n",
        "        # Dapatkan similarity scores untuk user ini\n",
        "        user_sim_scores = self.user_similarity[user_idx]\n",
        "\n",
        "        # Dapatkan anime yang belum dirating oleh user\n",
        "        user_ratings = self.user_item_matrix.loc[user_id]\n",
        "        unrated_anime = user_ratings[user_ratings == 0].index\n",
        "\n",
        "        # Prediksi rating untuk unrated anime\n",
        "        predictions = []\n",
        "        for anime_id in unrated_anime:\n",
        "            # Dapatkan users yang sudah rating anime ini\n",
        "            anime_ratings = self.user_item_matrix[anime_id]\n",
        "            rated_users = anime_ratings[anime_ratings > 0]\n",
        "\n",
        "            if len(rated_users) == 0:\n",
        "                continue\n",
        "\n",
        "            # Hitung weighted average rating\n",
        "            numerator = 0\n",
        "            denominator = 0\n",
        "\n",
        "            for other_user_id in rated_users.index:\n",
        "                other_user_idx = self.user_item_matrix.index.get_loc(other_user_id)\n",
        "                similarity = user_sim_scores[other_user_idx]\n",
        "                rating = rated_users[other_user_id]\n",
        "\n",
        "                numerator += similarity * rating\n",
        "                denominator += abs(similarity)\n",
        "\n",
        "            if denominator > 0:\n",
        "                predicted_rating = numerator / denominator\n",
        "                predictions.append((anime_id, predicted_rating))\n",
        "\n",
        "        # Sort dan ambil top N\n",
        "        predictions.sort(key=lambda x: x[1], reverse=True)\n",
        "        top_anime_ids = [pred[0] for pred in predictions[:n_recommendations]]\n",
        "\n",
        "        # Dapatkan informasi anime\n",
        "        recommendations = self.anime_df[self.anime_df['anime_id'].isin(top_anime_ids)][\n",
        "            ['anime_id', 'name', 'genre', 'type', 'rating']\n",
        "        ].copy()\n",
        "\n",
        "        # Tambahkan predicted rating\n",
        "        pred_dict = dict(predictions[:n_recommendations])\n",
        "        recommendations['predicted_rating'] = recommendations['anime_id'].map(pred_dict)\n",
        "\n",
        "        return recommendations.sort_values('predicted_rating', ascending=False)\n",
        "\n",
        "# Inisialisasi dan training collaborative filtering recommender\n",
        "cf_recommender = CollaborativeFilteringRecommender(user_item_matrix, anime_final)\n",
        "cf_recommender.fit()\n",
        "\n",
        "# Test collaborative filtering recommendation\n",
        "test_user = user_item_matrix.index[0]  # Ambil user pertama\n",
        "print(f\"\\n=== COLLABORATIVE FILTERING RECOMMENDATIONS FOR USER {test_user} ===\")\n",
        "cf_recommendations = cf_recommender.get_user_recommendations(test_user, n_recommendations=10)\n",
        "if cf_recommendations is not None:\n",
        "    print(cf_recommendations)"
      ],
      "metadata": {
        "colab": {
          "base_uri": "https://localhost:8080/"
        },
        "id": "7ke1PTnV8CBZ",
        "outputId": "9300eb54-91df-47b7-a933-a6760cf89b6c"
      },
      "execution_count": null,
      "outputs": [
        {
          "output_type": "stream",
          "name": "stdout",
          "text": [
            "User similarity matrix shape: (8471, 8471)\n",
            "Collaborative filtering model trained successfully!\n",
            "\n",
            "=== COLLABORATIVE FILTERING RECOMMENDATIONS FOR USER 3 ===\n",
            "    anime_id                                               name  \\\n",
            "0      32281                                     Kimi no Na wa.   \n",
            "2      28977                                           Gintama°   \n",
            "7        820                               Ginga Eiyuu Densetsu   \n",
            "3       9253                                        Steins;Gate   \n",
            "6      11061                             Hunter x Hunter (2011)   \n",
            "4       9969                                      Gintama&#039;   \n",
            "8      15335  Gintama Movie: Kanketsu-hen - Yorozuya yo Eien...   \n",
            "12       918                                            Gintama   \n",
            "10      4181                               Clannad: After Story   \n",
            "9      15417                           Gintama&#039;: Enchousen   \n",
            "\n",
            "                                                genre   type  rating  \\\n",
            "0                Drama, Romance, School, Supernatural  Movie    9.37   \n",
            "2   Action, Comedy, Historical, Parody, Samurai, S...     TV    9.25   \n",
            "7                      Drama, Military, Sci-Fi, Space    OVA    9.11   \n",
            "3                                    Sci-Fi, Thriller     TV    9.17   \n",
            "6             Action, Adventure, Shounen, Super Power     TV    9.13   \n",
            "4   Action, Comedy, Historical, Parody, Samurai, S...     TV    9.16   \n",
            "8   Action, Comedy, Historical, Parody, Samurai, S...  Movie    9.10   \n",
            "12  Action, Comedy, Historical, Parody, Samurai, S...     TV    9.04   \n",
            "10  Drama, Fantasy, Romance, Slice of Life, Supern...     TV    9.06   \n",
            "9   Action, Comedy, Historical, Parody, Samurai, S...     TV    9.11   \n",
            "\n",
            "    predicted_rating  \n",
            "0           9.453793  \n",
            "2           9.452661  \n",
            "7           9.311321  \n",
            "3           9.308286  \n",
            "6           9.274552  \n",
            "4           9.269498  \n",
            "8           9.209475  \n",
            "12          9.180206  \n",
            "10          9.151706  \n",
            "9           9.137031  \n"
          ]
        }
      ]
    },
    {
      "cell_type": "markdown",
      "source": [
        "Contoh Output Rekomendasi untuk user_id = 3:\n",
        "\n",
        "\n",
        "Anime\tPredicted Rating\n",
        "\n",
        "- Kimi no Na wa.\t9.37\n",
        "\n",
        "- Gintama°\t9.25\n",
        "\n",
        "- Ginga Eiyuu Densetsu\t9.11\n",
        "\n",
        "- Steins;Gate\t9.17\n",
        "\n",
        "- Hunter x Hunter (2011)\t9.13"
      ],
      "metadata": {
        "id": "74VpxPdKiX3i"
      }
    },
    {
      "cell_type": "markdown",
      "source": [
        "### Menampilkan Top-N Recommendations"
      ],
      "metadata": {
        "id": "LoQw8Wv08IY2"
      }
    },
    {
      "cell_type": "markdown",
      "source": [
        "### Menampilkan Top-N Recommendations"
      ],
      "metadata": {
        "id": "vrXLrEuf8O-4"
      }
    },
    {
      "cell_type": "code",
      "source": [
        "print(\"\\n\" + \"=\"*80)\n",
        "print(\"TOP-N RECOMMENDATION RESULTS\")\n",
        "print(\"=\"*80)\n",
        "\n",
        "# 1. Content-Based Recommendations\n",
        "print(f\"\\n1. CONTENT-BASED FILTERING - Top 5 recommendations for '{test_anime}':\")\n",
        "print(\"-\" * 60)\n",
        "if cb_recommendations is not None:\n",
        "    top_5_cb = cb_recommendations.head()\n",
        "    for idx, row in top_5_cb.iterrows():\n",
        "        print(f\"{idx+1}. {row['name']}\")\n",
        "        print(f\"   Genre: {row['genre']}\")\n",
        "        print(f\"   Type: {row['type']} | Rating: {row['rating']:.2f}\")\n",
        "        print(f\"   Similarity Score: {row['similarity_score']:.4f}\")\n",
        "        print()\n",
        "\n",
        "# 2. Collaborative Filtering Recommendations\n",
        "print(f\"\\n2. COLLABORATIVE FILTERING - Top 5 recommendations for User {test_user}:\")\n",
        "print(\"-\" * 60)\n",
        "if cf_recommendations is not None:\n",
        "    top_5_cf = cf_recommendations.head()\n",
        "    for idx, row in top_5_cf.iterrows():\n",
        "        print(f\"{idx+1}. {row['name']}\")\n",
        "        print(f\"   Genre: {row['genre']}\")\n",
        "        print(f\"   Type: {row['type']} | Rating: {row['rating']:.2f}\")\n",
        "        print(f\"   Predicted Rating: {row['predicted_rating']:.4f}\")\n",
        "        print()"
      ],
      "metadata": {
        "colab": {
          "base_uri": "https://localhost:8080/"
        },
        "id": "yxTBus7D8Lru",
        "outputId": "a5fa833c-2e85-4763-b35a-5230839d94fb"
      },
      "execution_count": null,
      "outputs": [
        {
          "output_type": "stream",
          "name": "stdout",
          "text": [
            "\n",
            "================================================================================\n",
            "TOP-N RECOMMENDATION RESULTS\n",
            "================================================================================\n",
            "\n",
            "1. CONTENT-BASED FILTERING - Top 5 recommendations for 'Death Note':\n",
            "------------------------------------------------------------\n",
            "6665. Otaku no Seiza\n",
            "   Genre: Comedy, Parody\n",
            "   Type: OVA | Rating: 6.01\n",
            "   Similarity Score: 1.0000\n",
            "\n",
            "6843. Lupin Shanshei\n",
            "   Genre: Comedy, Parody\n",
            "   Type: OVA | Rating: 5.90\n",
            "   Similarity Score: 1.0000\n",
            "\n",
            "4463. Mobile Police Patlabor: MiniPato\n",
            "   Genre: Parody\n",
            "   Type: OVA | Rating: 6.72\n",
            "   Similarity Score: 0.9301\n",
            "\n",
            "5470. Scramble Wars: Tsuppashire! Genom Trophy Rally\n",
            "   Genre: Parody\n",
            "   Type: OVA | Rating: 6.45\n",
            "   Similarity Score: 0.9301\n",
            "\n",
            "3198. CB Chara Go Nagai World\n",
            "   Genre: Action, Comedy, Parody\n",
            "   Type: OVA | Rating: 7.05\n",
            "   Similarity Score: 0.9167\n",
            "\n",
            "\n",
            "2. COLLABORATIVE FILTERING - Top 5 recommendations for User 3:\n",
            "------------------------------------------------------------\n",
            "1. Kimi no Na wa.\n",
            "   Genre: Drama, Romance, School, Supernatural\n",
            "   Type: Movie | Rating: 9.37\n",
            "   Predicted Rating: 9.4538\n",
            "\n",
            "3. Gintama°\n",
            "   Genre: Action, Comedy, Historical, Parody, Samurai, Sci-Fi, Shounen\n",
            "   Type: TV | Rating: 9.25\n",
            "   Predicted Rating: 9.4527\n",
            "\n",
            "8. Ginga Eiyuu Densetsu\n",
            "   Genre: Drama, Military, Sci-Fi, Space\n",
            "   Type: OVA | Rating: 9.11\n",
            "   Predicted Rating: 9.3113\n",
            "\n",
            "4. Steins;Gate\n",
            "   Genre: Sci-Fi, Thriller\n",
            "   Type: TV | Rating: 9.17\n",
            "   Predicted Rating: 9.3083\n",
            "\n",
            "7. Hunter x Hunter (2011)\n",
            "   Genre: Action, Adventure, Shounen, Super Power\n",
            "   Type: TV | Rating: 9.13\n",
            "   Predicted Rating: 9.2746\n",
            "\n"
          ]
        }
      ]
    },
    {
      "cell_type": "markdown",
      "source": [
        "#Evaluation"
      ],
      "metadata": {
        "id": "QiPY6gNPk3_x"
      }
    },
    {
      "cell_type": "markdown",
      "source": [
        "### Evaluasi Content-Based Filtering\n",
        "\n",
        "- Tidak dapat dievaluasi dengan metrik prediktif seperti RMSE\n",
        "\n",
        "- Evaluasi dilakukan secara visual berdasarkan kesamaan genre\n",
        "\n",
        "- Rekomendasi terlihat cukup relevan secara konten"
      ],
      "metadata": {
        "id": "IM-hn4J48TEG"
      }
    },
    {
      "cell_type": "code",
      "source": [
        "def evaluate_content_based_diversity(recommender, test_animes, n_recommendations=10):\n",
        "    \"\"\"Evaluasi diversity dari content-based recommendations\"\"\"\n",
        "    all_genres = []\n",
        "\n",
        "    for anime_name in test_animes:\n",
        "        recommendations = recommender.get_recommendations(anime_name, n_recommendations)\n",
        "        if recommendations is not None:\n",
        "            for _, row in recommendations.iterrows():\n",
        "                if pd.notna(row['genre']):\n",
        "                    genres = [g.strip() for g in row['genre'].split(',')]\n",
        "                    all_genres.extend(genres)\n",
        "\n",
        "    unique_genres = len(set(all_genres))\n",
        "    total_recommendations = len(all_genres)\n",
        "    diversity_score = unique_genres / total_recommendations if total_recommendations > 0 else 0\n",
        "\n",
        "    return diversity_score, unique_genres, total_recommendations\n"
      ],
      "metadata": {
        "id": "AH_Lk_i88VNx"
      },
      "execution_count": null,
      "outputs": []
    },
    {
      "cell_type": "code",
      "source": [
        "# Test dengan beberapa anime populer\n",
        "test_animes = [\"Death Note\", \"Naruto\", \"One Piece\", \"Attack on Titan\", \"Dragon Ball Z\"]\n",
        "test_animes_available = [anime for anime in test_animes if anime in cb_recommender.indices]\n",
        "\n",
        "print(\"=== CONTENT-BASED FILTERING EVALUATION ===\")\n",
        "print(f\"Testing with animes: {test_animes_available}\")\n",
        "\n",
        "if test_animes_available:\n",
        "    diversity_score, unique_genres, total_recs = evaluate_content_based_diversity(\n",
        "        cb_recommender, test_animes_available\n",
        "    )\n",
        "\n",
        "    print(f\"Diversity Score: {diversity_score:.4f}\")\n",
        "    print(f\"Unique Genres: {unique_genres}\")\n",
        "    print(f\"Total Recommendations: {total_recs}\")\n",
        "\n",
        "    # Precision based on genre similarity\n",
        "    precision_scores = []\n",
        "    for anime_name in test_animes_available:\n",
        "        if anime_name in anime_final['name'].values:\n",
        "            original_anime = anime_final[anime_final['name'] == anime_name].iloc[0]\n",
        "            original_genres = set([g.strip() for g in original_anime['genre'].split(',')])\n",
        "\n",
        "            recommendations = cb_recommender.get_recommendations(anime_name, 5)\n",
        "            if recommendations is not None:\n",
        "                relevant_count = 0\n",
        "                for _, rec in recommendations.iterrows():\n",
        "                    rec_genres = set([g.strip() for g in rec['genre'].split(',')])\n",
        "                    if len(original_genres.intersection(rec_genres)) > 0:\n",
        "                        relevant_count += 1\n",
        "\n",
        "                precision = relevant_count / len(recommendations)\n",
        "                precision_scores.append(precision)\n",
        "                print(f\"Precision for {anime_name}: {precision:.4f}\")\n",
        "\n",
        "    if precision_scores:\n",
        "        avg_precision = np.mean(precision_scores)\n",
        "        print(f\"Average Precision: {avg_precision:.4f}\")\n"
      ],
      "metadata": {
        "colab": {
          "base_uri": "https://localhost:8080/"
        },
        "id": "jOIyRsFO8aZ5",
        "outputId": "ad6f5431-f95a-47d1-e2ae-0bcf0321eaa6"
      },
      "execution_count": null,
      "outputs": [
        {
          "output_type": "stream",
          "name": "stdout",
          "text": [
            "=== CONTENT-BASED FILTERING EVALUATION ===\n",
            "Testing with animes: ['Death Note', 'Naruto', 'Dragon Ball Z']\n",
            "Diversity Score: 0.0877\n",
            "Unique Genres: 10\n",
            "Total Recommendations: 114\n",
            "Precision for Death Note: 0.0000\n",
            "Precision for Naruto: 1.0000\n",
            "Precision for Dragon Ball Z: 1.0000\n",
            "Average Precision: 0.6667\n"
          ]
        }
      ]
    },
    {
      "cell_type": "markdown",
      "source": [
        "### Evaluasi Collaborative Filtering\n",
        "- Dievaluasi menggunakan RMSE:\n",
        "\n",
        "      RMSE: 1.3178\n",
        "\n",
        "- Nilai ini menandakan bahwa prediksi model cukup dekat dengan rating aktual (semakin kecil RMSE semakin baik).\n"
      ],
      "metadata": {
        "id": "6DdYl3Qd8tVc"
      }
    },
    {
      "cell_type": "code",
      "source": [
        "def evaluate_collaborative_filtering(recommender, test_ratio=0.2):\n",
        "    \"\"\"Evaluasi collaborative filtering menggunakan train-test split\"\"\"\n",
        "\n",
        "    # Siapkan data untuk evaluasi\n",
        "    ratings_data = []\n",
        "    for user_id in user_item_matrix.index:\n",
        "        user_ratings = user_item_matrix.loc[user_id]\n",
        "        rated_items = user_ratings[user_ratings > 0]\n",
        "\n",
        "        for anime_id, rating in rated_items.items():\n",
        "            ratings_data.append({\n",
        "                'user_id': user_id,\n",
        "                'anime_id': anime_id,\n",
        "                'rating': rating\n",
        "            })\n",
        "\n",
        "    ratings_df = pd.DataFrame(ratings_data)\n",
        "\n",
        "    # Split data\n",
        "    train_data, test_data = train_test_split(ratings_df, test_size=test_ratio, random_state=42)\n",
        "\n",
        "    # Buat matrix untuk training\n",
        "    train_matrix = train_data.pivot_table(\n",
        "        index='user_id',\n",
        "        columns='anime_id',\n",
        "        values='rating'\n",
        "    ).fillna(0)\n",
        "\n",
        "    # Recompute similarity dengan training data\n",
        "    train_similarity = cosine_similarity(train_matrix)\n",
        "\n",
        "    # Prediksi untuk test data\n",
        "    predictions = []\n",
        "    actuals = []\n",
        "\n",
        "    for _, row in test_data.head(1000).iterrows():  # Ambil sample untuk evaluasi\n",
        "        user_id = row['user_id']\n",
        "        anime_id = row['anime_id']\n",
        "        actual_rating = row['rating']\n",
        "\n",
        "        if user_id in train_matrix.index and anime_id in train_matrix.columns:\n",
        "            user_idx = train_matrix.index.get_loc(user_id)\n",
        "            user_sim_scores = train_similarity[user_idx]\n",
        "\n",
        "            # Prediksi rating\n",
        "            anime_ratings = train_matrix[anime_id]\n",
        "            rated_users = anime_ratings[anime_ratings > 0]\n",
        "\n",
        "            if len(rated_users) > 0:\n",
        "                numerator = 0\n",
        "                denominator = 0\n",
        "\n",
        "                for other_user_id in rated_users.index:\n",
        "                    other_user_idx = train_matrix.index.get_loc(other_user_id)\n",
        "                    similarity = user_sim_scores[other_user_idx]\n",
        "                    rating = rated_users[other_user_id]\n",
        "\n",
        "                    numerator += similarity * rating\n",
        "                    denominator += abs(similarity)\n",
        "\n",
        "                if denominator > 0:\n",
        "                    predicted_rating = numerator / denominator\n",
        "                    predictions.append(predicted_rating)\n",
        "                    actuals.append(actual_rating)\n",
        "\n",
        "    # Hitung RMSE\n",
        "    if predictions:\n",
        "        rmse = np.sqrt(mean_squared_error(actuals, predictions))\n",
        "        mae = np.mean(np.abs(np.array(actuals) - np.array(predictions)))\n",
        "\n",
        "        return rmse, mae, len(predictions)\n",
        "    else:\n",
        "        return None, None, 0\n",
        "\n",
        "print(\"\\n=== COLLABORATIVE FILTERING EVALUATION ===\")\n",
        "rmse, mae, n_predictions = evaluate_collaborative_filtering(cf_recommender)\n",
        "\n",
        "if rmse is not None:\n",
        "    print(f\"RMSE: {rmse:.4f}\")\n",
        "    print(f\"MAE: {mae:.4f}\")\n",
        "    print(f\"Number of predictions: {n_predictions}\")\n",
        "else:\n",
        "    print(\"Tidak dapat menghitung RMSE dan MAE\")"
      ],
      "metadata": {
        "colab": {
          "base_uri": "https://localhost:8080/"
        },
        "id": "zm1qwg6y89_x",
        "outputId": "5a86899a-d81d-4d05-9318-c2d250657cd9"
      },
      "execution_count": null,
      "outputs": [
        {
          "output_type": "stream",
          "name": "stdout",
          "text": [
            "\n",
            "=== COLLABORATIVE FILTERING EVALUATION ===\n",
            "RMSE: 1.3178\n",
            "MAE: 1.0320\n",
            "Number of predictions: 1000\n"
          ]
        }
      ]
    },
    {
      "cell_type": "markdown",
      "source": [
        "### Coverage Analysis\n"
      ],
      "metadata": {
        "id": "K9oDU3f19MBb"
      }
    },
    {
      "cell_type": "code",
      "source": [
        "print(\"\\n=== COVERAGE ANALYSIS ===\")\n",
        "\n",
        "# Content-based coverage\n",
        "cb_coverage = len(anime_final) / len(anime_df) * 100\n",
        "print(f\"Content-based Coverage: {cb_coverage:.2f}% ({len(anime_final)}/{len(anime_df)} anime)\")\n",
        "\n",
        "# Collaborative filtering coverage\n",
        "cf_anime_coverage = len(popular_anime) / len(anime_df) * 100\n",
        "cf_user_coverage = len(active_users) / rating_df['user_id'].nunique() * 100\n",
        "print(f\"Collaborative Filtering - Anime Coverage: {cf_anime_coverage:.2f}% ({len(popular_anime)}/{len(anime_df)} anime)\")\n",
        "print(f\"Collaborative Filtering - User Coverage: {cf_user_coverage:.2f}% ({len(active_users)}/{rating_df['user_id'].nunique()} users)\")\n"
      ],
      "metadata": {
        "colab": {
          "base_uri": "https://localhost:8080/"
        },
        "id": "jfQ9rDKW9O3p",
        "outputId": "245ebb46-906c-4320-d779-3e1802274983"
      },
      "execution_count": null,
      "outputs": [
        {
          "output_type": "stream",
          "name": "stdout",
          "text": [
            "\n",
            "=== COVERAGE ANALYSIS ===\n",
            "Content-based Coverage: 73.21% (9000/12294 anime)\n",
            "Collaborative Filtering - Anime Coverage: 35.85% (4407/12294 anime)\n",
            "Collaborative Filtering - User Coverage: 44.36% (8471/19094 users)\n"
          ]
        }
      ]
    },
    {
      "cell_type": "markdown",
      "source": [
        "### Summary Evaluation\n"
      ],
      "metadata": {
        "id": "gniposOl9jXM"
      }
    },
    {
      "cell_type": "code",
      "source": [
        "print(\"\\n\" + \"=\"*80)\n",
        "print(\"EVALUATION SUMMARY\")\n",
        "print(\"=\"*80)\n",
        "\n",
        "print(\"\\n1. CONTENT-BASED FILTERING:\")\n",
        "print(f\"   ✓ Dapat memberikan rekomendasi berdasarkan konten anime\")\n",
        "print(f\"   ✓ Coverage: {cb_coverage:.2f}% dari total anime\")\n",
        "if 'avg_precision' in locals():\n",
        "    print(f\"   ✓ Average Precision: {avg_precision:.4f}\")\n",
        "if 'diversity_score' in locals():\n",
        "    print(f\"   ✓ Diversity Score: {diversity_score:.4f}\")\n",
        "\n",
        "print(f\"\\n2. COLLABORATIVE FILTERING:\")\n",
        "print(f\"   ✓ Dapat memberikan rekomendasi berdasarkan preferensi user serupa\")\n",
        "print(f\"   ✓ Anime Coverage: {cf_anime_coverage:.2f}%\")\n",
        "print(f\"   ✓ User Coverage: {cf_user_coverage:.2f}%\")\n",
        "if rmse is not None:\n",
        "    print(f\"   ✓ RMSE: {rmse:.4f}\")\n",
        "    print(f\"   ✓ MAE: {mae:.4f}\")\n",
        "\n",
        "print(f\"\\n3. SYSTEM CHARACTERISTICS:\")\n",
        "print(f\"   • Total Anime in Dataset: {len(anime_df):,}\")\n",
        "print(f\"   • Total Users: {rating_df['user_id'].nunique():,}\")\n",
        "print(f\"   • Total Ratings: {len(rating_df):,}\")\n",
        "print(f\"   • Matrix Sparsity: {sparsity:.2f}%\")\n",
        "\n",
        "print(f\"\\n4. RECOMMENDATION CAPABILITIES:\")\n",
        "print(f\"   • Content-based: Merekomendasikan anime dengan genre/karakteristik serupa\")\n",
        "print(f\"   • Collaborative: Merekomendasikan anime berdasarkan user dengan preferensi serupa\")\n",
        "print(f\"   • Kedua sistem dapat memberikan Top-N recommendations\")\n"
      ],
      "metadata": {
        "colab": {
          "base_uri": "https://localhost:8080/"
        },
        "id": "-oKChtjC9mfu",
        "outputId": "dd375f77-47ca-464e-aefc-728d1c428b2a"
      },
      "execution_count": null,
      "outputs": [
        {
          "output_type": "stream",
          "name": "stdout",
          "text": [
            "\n",
            "================================================================================\n",
            "EVALUATION SUMMARY\n",
            "================================================================================\n",
            "\n",
            "1. CONTENT-BASED FILTERING:\n",
            "   ✓ Dapat memberikan rekomendasi berdasarkan konten anime\n",
            "   ✓ Coverage: 73.21% dari total anime\n",
            "   ✓ Average Precision: 0.6667\n",
            "   ✓ Diversity Score: 0.0877\n",
            "\n",
            "2. COLLABORATIVE FILTERING:\n",
            "   ✓ Dapat memberikan rekomendasi berdasarkan preferensi user serupa\n",
            "   ✓ Anime Coverage: 35.85%\n",
            "   ✓ User Coverage: 44.36%\n",
            "   ✓ RMSE: 1.3178\n",
            "   ✓ MAE: 1.0320\n",
            "\n",
            "3. SYSTEM CHARACTERISTICS:\n",
            "   • Total Anime in Dataset: 12,294\n",
            "   • Total Users: 19,094\n",
            "   • Total Ratings: 1,967,911\n",
            "   • Matrix Sparsity: 96.25%\n",
            "\n",
            "4. RECOMMENDATION CAPABILITIES:\n",
            "   • Content-based: Merekomendasikan anime dengan genre/karakteristik serupa\n",
            "   • Collaborative: Merekomendasikan anime berdasarkan user dengan preferensi serupa\n",
            "   • Kedua sistem dapat memberikan Top-N recommendations\n"
          ]
        }
      ]
    },
    {
      "cell_type": "markdown",
      "source": [
        "#Evaluation\n",
        "\n",
        "Evaluasi dilakukan untuk menilai performa sistem rekomendasi berdasarkan dua pendekatan.\n",
        "\n",
        "1. Content-Based Filtering\n",
        "- Anime Coverage: 73.21% dari total anime\n",
        "\n",
        "- Average Precision: 0.6667\n",
        "\n",
        "- Diversity Score: 0.0877\n",
        "\n",
        "Metode ini berhasil mencakup lebih dari 70% anime yang tersedia dan memiliki precision yang cukup baik. Diversity Score mengindikasikan variasi rekomendasi, meskipun masih cenderung rendah (karena kesamaan genre).\n",
        "\n",
        "2. Collaborative Filtering\n",
        "- Anime Coverage: 35.85%\n",
        "\n",
        "- User Coverage: 44.36%\n",
        "\n",
        "- RMSE: 1.3178\n",
        "\n",
        "- MAE: 1.0320\n",
        "\n",
        "RMSE dan MAE menunjukkan tingkat kesalahan prediksi rating. Nilai RMSE 1.3178 dan MAE 1.0320 cukup umum dalam domain ini dan bisa ditingkatkan dengan pendekatan hybrid atau model yang lebih kompleks."
      ],
      "metadata": {
        "id": "WWyriRhtlp0m"
      }
    },
    {
      "cell_type": "markdown",
      "source": [
        "#KESIMPULAN\n",
        "Dalam proyek ini, dua pendekatan sistem rekomendasi telah berhasil dikembangkan:\n",
        "\n",
        "- Content-Based Filtering memiliki cakupan lebih luas terhadap koleksi anime dan precision yang tinggi, namun variasi rekomendasinya masih terbatas.\n",
        "\n",
        "- Collaborative Filtering memberikan rekomendasi berdasarkan preferensi pengguna serupa, dengan performa prediksi yang cukup akurat (RMSE = 1.3178).\n",
        "\n",
        "Kedua sistem dapat menghasilkan Top-N recommendation yang relevan. Ke depan, sistem ini dapat dikembangkan dengan:\n",
        "\n",
        "- Pendekatan Hybrid yang menggabungkan keunggulan kedua metode.\n",
        "\n",
        "- Integrasi fitur tambahan seperti sinopsis, review teks, atau skor popularitas.\n",
        "\n",
        "- Peningkatan diversity agar rekomendasi lebih bervariasi dan tidak hanya fokus pada genre yang sama.\n",
        "\n",
        "\n"
      ],
      "metadata": {
        "id": "Qmdh6v4zC9hJ"
      }
    }
  ]
}