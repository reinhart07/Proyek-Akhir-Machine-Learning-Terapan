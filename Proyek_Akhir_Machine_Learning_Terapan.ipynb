{
  "nbformat": 4,
  "nbformat_minor": 0,
  "metadata": {
    "colab": {
      "provenance": [],
      "gpuType": "T4"
    },
    "kernelspec": {
      "name": "python3",
      "display_name": "Python 3"
    },
    "language_info": {
      "name": "python"
    },
    "accelerator": "GPU"
  },
  "cells": [
    {
      "cell_type": "markdown",
      "source": [
        "#Sistem Rekomendasi Anime - Laporan Proyek Machine Learning"
      ],
      "metadata": {
        "id": "pDjW_vnKGgSj"
      }
    },
    {
      "cell_type": "markdown",
      "source": [
        "#Project Overview\n",
        "\n",
        "Sistem rekomendasi telah menjadi komponen penting dalam berbagai platform digital, terutama layanan streaming dan database konten seperti MyAnimeList, Netflix, Crunchyroll, dan layanan serupa. Sistem ini membantu pengguna menemukan konten yang relevan dengan selera mereka di tengah banyaknya pilihan yang tersedia. Dalam konteks anime, dengan ribuan judul yang tersedia dan terus bertambah setiap musimnya, sistem rekomendasi menjadi krusial untuk meningkatkan pengalaman pengguna dan membantu mereka menemukan anime baru yang potensial disukai berdasarkan preferensi mereka sebelumnya.\n",
        "Menurut penelitian yang dilakukan oleh Grand View Research, industri animasi dan manga global diperkirakan bernilai sekitar $25 miliar pada tahun 2020 dan diproyeksikan terus tumbuh. Dari segi konsumsi konten, menurut laporan Parrot Analytics, permintaan untuk anime secara global meningkat sebesar 33% antara tahun 2020 dan 2021. Fenomena ini menjadikan sistem rekomendasi anime tidak hanya sebagai fitur tambahan, tetapi juga sebagai komponen strategis untuk meningkatkan engagement pengguna dan mendorong pertumbuhan platform.\n",
        "\n",
        "Proyek ini penting untuk diselesaikan karena:\n",
        "\n",
        "1. Membantu pengguna menemukan konten yang sesuai dengan preferensi mereka di tengah banyaknya pilihan anime yang tersedia\n",
        "2. Meningkatkan pengalaman pengguna pada platform anime, yang berpotensi meningkatkan retensi pengguna\n",
        "3. Memperluas wawasan pengguna dengan merekomendasikan anime yang mungkin tidak akan mereka temukan sendiri\n",
        "4. Memaksimalkan efisiensi konsumsi konten dengan mengurangi waktu yang dihabiskan untuk mencari anime yang sesuai dengan selera pengguna\n",
        "\n",
        "Beberapa penelitian sebelumnya seperti yang dilakukan oleh Jannach et al. (2019) dalam \"Recommender Systems: An Introduction\" menunjukkan bahwa sistem rekomendasi yang efektif dapat meningkatkan tingkat konversi hingga 5.9% dan engagement pengguna hingga 12.5%. Dalam konteks anime, penelitian oleh Ping West et al. dalam \"Content-Based Filtering Algorithm for Anime Recommendation Systems\" (2018) menunjukkan bahwa pendekatan content-based filtering menghasilkan rekomendasi yang relevan dengan akurasi 78% berdasarkan kesamaan genre dan karakteristik anime."
      ],
      "metadata": {
        "id": "FGaxCYHcGkOd"
      }
    },
    {
      "cell_type": "markdown",
      "source": [
        "#Business Understanding\n",
        "**Problem Statements**\n",
        "\n",
        "Berdasarkan latar belakang di atas, berikut adalah rumusan masalah yang akan diselesaikan dalam proyek ini:\n",
        "\n",
        "1. Pengguna seringkali mengalami kesulitan menemukan anime yang sesuai dengan preferensi mereka di antara ribuan judul yang tersedia, mengakibatkan pengalaman pengguna yang kurang optimal dan potensi berkurangnya engagement pada platform.\n",
        "2. Banyaknya judul anime baru yang terus bertambah setiap musim membuat pengguna kewalahan dan menghabiskan waktu yang tidak efisien untuk menemukan konten yang relevan.\n",
        "3. Platform anime menghadapi tantangan untuk mempertahankan dan meningkatkan user retention karena pengguna yang tidak menemukan konten yang sesuai cenderung beralih ke platform lain.\n",
        "\n",
        "**Goals**\n",
        "\n",
        "Tujuan dari proyek ini adalah:\n",
        "1. Mengembangkan sistem rekomendasi anime yang dapat memberikan rekomendasi anime yang sesuai dengan preferensi pengguna\n",
        "2. Mengimplementasikan dan membandingkan dua pendekatan sistem rekomendasi (Content-based Filtering dan Collaborative Filtering)\n",
        "3. Mengukur dan mengevaluasi performa dari kedua pendekatan sistem rekomendasi yang dikembangkan"
      ],
      "metadata": {
        "id": "nPTempJpG2Bj"
      }
    },
    {
      "cell_type": "markdown",
      "source": [
        "**Solution Approach**\n",
        "\n",
        "Untuk mencapai tujuan yang telah ditentukan, proyek ini akan mengimplementasikan dua pendekatan sistem rekomendasi:\n",
        "\n",
        "1. Content-based Filtering\n",
        "\n",
        "- Pendekatan ini akan menganalisis konten atau atribut dari anime yang disukai pengguna dan merekomendasikan anime lain dengan atribut serupa\n",
        "- Menggunakan fitur seperti genre, tipe, dan rating sebagai basis untuk menghitung kesamaan antar anime\n",
        "- Mengimplementasikan teknik TF-IDF untuk mengekstraksi fitur dari data genre\n",
        "- Menggunakan cosine similarity untuk menghitung tingkat kesamaan antara anime\n",
        "- Kelebihan pendekatan ini adalah kemampuannya memberikan rekomendasi untuk pengguna baru tanpa memerlukan data rating dari pengguna lain (cold start problem)\n",
        "\n",
        "\n",
        "2. Collaborative Filtering\n",
        "\n",
        "- Pendekatan ini akan merekomendasikan anime berdasarkan preferensi pengguna lain yang memiliki pola rating serupa\n",
        "- Menggunakan metode matrix factorization dengan teknik Singular Value Decomposition (SVD) untuk memprediksi rating pengguna terhadap anime yang belum mereka tonton\n",
        "- Membangun model dengan bantuan library Surprise untuk implementasi teknik collaborative filtering\n",
        "- Pendekatan ini efektif untuk menemukan rekomendasi yang tidak terlihat secara langsung dari fitur konten, namun memerlukan data interaksi pengguna yang cukup\n",
        "\n",
        "\n",
        "\n",
        "Kedua pendekatan ini akan diimplementasikan dan dibandingkan untuk memberikan perspektif yang komprehensif tentang efektivitas sistem rekomendasi anime."
      ],
      "metadata": {
        "id": "GgIpdVimI8Vo"
      }
    },
    {
      "cell_type": "code",
      "source": [
        "!pip install numpy==1.26.4\n"
      ],
      "metadata": {
        "colab": {
          "base_uri": "https://localhost:8080/"
        },
        "id": "4cIUscNoCM-N",
        "outputId": "5fa3ff35-0679-4bd6-be15-1f2bf213eaad"
      },
      "execution_count": null,
      "outputs": [
        {
          "output_type": "stream",
          "name": "stdout",
          "text": [
            "Requirement already satisfied: numpy==1.26.4 in /usr/local/lib/python3.11/dist-packages (1.26.4)\n"
          ]
        }
      ]
    },
    {
      "cell_type": "code",
      "execution_count": null,
      "metadata": {
        "id": "sJNqressAliT"
      },
      "outputs": [],
      "source": [
        "# Import library yang diperlukan\n",
        "import numpy as np\n",
        "import pandas as pd\n",
        "import matplotlib.pyplot as plt\n",
        "import seaborn as sns\n",
        "from sklearn.feature_extraction.text import TfidfVectorizer\n",
        "from sklearn.metrics.pairwise import cosine_similarity\n",
        "from surprise import Dataset, Reader, SVD\n",
        "from surprise.model_selection import train_test_split\n",
        "from surprise import accuracy\n",
        "import warnings\n",
        "warnings.filterwarnings('ignore')"
      ]
    },
    {
      "cell_type": "code",
      "source": [
        "# Load data\n",
        "anime = pd.read_csv('/content/anime.csv')\n",
        "rating = pd.read_csv('/content/rating.csv')"
      ],
      "metadata": {
        "id": "RnAMlrG2C5A6"
      },
      "execution_count": null,
      "outputs": []
    },
    {
      "cell_type": "code",
      "source": [
        "# Display basic information\n",
        "print(\"Anime Dataset Info:\")\n",
        "print(anime.info())\n",
        "print(\"\\nRating Dataset Info:\")\n",
        "print(rating.info())\n",
        "\n",
        "# Basic exploratory analysis\n",
        "print(\"\\nAnime Dataset Sample:\")\n",
        "print(anime.head())\n",
        "print(\"\\nRating Dataset Sample:\")\n",
        "print(rating.head())\n",
        "\n",
        "# Check for missing values\n",
        "print(\"\\nMissing values in Anime Dataset:\")\n",
        "print(anime.isnull().sum())\n",
        "print(\"\\nMissing values in Rating Dataset:\")\n",
        "print(rating.isnull().sum())\n"
      ],
      "metadata": {
        "colab": {
          "base_uri": "https://localhost:8080/"
        },
        "id": "YC9Z_0-YD1HW",
        "outputId": "bb56713b-8745-4983-9cd7-c43f6da2cbf4"
      },
      "execution_count": null,
      "outputs": [
        {
          "output_type": "stream",
          "name": "stdout",
          "text": [
            "Anime Dataset Info:\n",
            "<class 'pandas.core.frame.DataFrame'>\n",
            "RangeIndex: 12294 entries, 0 to 12293\n",
            "Data columns (total 7 columns):\n",
            " #   Column    Non-Null Count  Dtype  \n",
            "---  ------    --------------  -----  \n",
            " 0   anime_id  12294 non-null  int64  \n",
            " 1   name      12294 non-null  object \n",
            " 2   genre     12232 non-null  object \n",
            " 3   type      12269 non-null  object \n",
            " 4   episodes  12294 non-null  object \n",
            " 5   rating    12064 non-null  float64\n",
            " 6   members   12294 non-null  int64  \n",
            "dtypes: float64(1), int64(2), object(4)\n",
            "memory usage: 672.5+ KB\n",
            "None\n",
            "\n",
            "Rating Dataset Info:\n",
            "<class 'pandas.core.frame.DataFrame'>\n",
            "RangeIndex: 710593 entries, 0 to 710592\n",
            "Data columns (total 3 columns):\n",
            " #   Column    Non-Null Count   Dtype  \n",
            "---  ------    --------------   -----  \n",
            " 0   user_id   710593 non-null  int64  \n",
            " 1   anime_id  710592 non-null  float64\n",
            " 2   rating    710592 non-null  float64\n",
            "dtypes: float64(2), int64(1)\n",
            "memory usage: 16.3 MB\n",
            "None\n",
            "\n",
            "Anime Dataset Sample:\n",
            "   anime_id                              name  \\\n",
            "0     32281                    Kimi no Na wa.   \n",
            "1      5114  Fullmetal Alchemist: Brotherhood   \n",
            "2     28977                          Gintama°   \n",
            "3      9253                       Steins;Gate   \n",
            "4      9969                     Gintama&#039;   \n",
            "\n",
            "                                               genre   type episodes  rating  \\\n",
            "0               Drama, Romance, School, Supernatural  Movie        1    9.37   \n",
            "1  Action, Adventure, Drama, Fantasy, Magic, Mili...     TV       64    9.26   \n",
            "2  Action, Comedy, Historical, Parody, Samurai, S...     TV       51    9.25   \n",
            "3                                   Sci-Fi, Thriller     TV       24    9.17   \n",
            "4  Action, Comedy, Historical, Parody, Samurai, S...     TV       51    9.16   \n",
            "\n",
            "   members  \n",
            "0   200630  \n",
            "1   793665  \n",
            "2   114262  \n",
            "3   673572  \n",
            "4   151266  \n",
            "\n",
            "Rating Dataset Sample:\n",
            "   user_id  anime_id  rating\n",
            "0        1      20.0    -1.0\n",
            "1        1      24.0    -1.0\n",
            "2        1      79.0    -1.0\n",
            "3        1     226.0    -1.0\n",
            "4        1     241.0    -1.0\n",
            "\n",
            "Missing values in Anime Dataset:\n",
            "anime_id      0\n",
            "name          0\n",
            "genre        62\n",
            "type         25\n",
            "episodes      0\n",
            "rating      230\n",
            "members       0\n",
            "dtype: int64\n",
            "\n",
            "Missing values in Rating Dataset:\n",
            "user_id     0\n",
            "anime_id    1\n",
            "rating      1\n",
            "dtype: int64\n"
          ]
        }
      ]
    },
    {
      "cell_type": "markdown",
      "source": [
        "### Data Understanding\n",
        "\n",
        "Dataset yang digunakan berasal dari Kaggle, terdiri dari dua file:\n",
        "\n",
        "**1. Anime Dataset (anime.csv)**\n",
        "- Jumlah data: X baris dan 7 kolom\n",
        "- Kondisi data:\n",
        "  - Missing values: Genre (X baris), Type (X baris), Rating (X baris)\n",
        "  - Tidak terdapat data duplikat\n",
        "  - Distribusi rating menunjukkan beberapa outlier di bawah rating 4.0\n",
        "\n",
        "**Deskripsi Fitur:**\n",
        "- anime_id: ID unik untuk setiap anime (integer)\n",
        "- name: Judul anime (string)\n",
        "- genre: Genre anime yang dipisahkan dengan koma (string)\n",
        "- type: Format anime seperti TV, Movie, OVA, dll (string)\n",
        "- episodes: Jumlah episode anime (integer)\n",
        "- rating: Rating rata-rata anime pada skala 1-10 (float)\n",
        "- members: Jumlah anggota komunitas yang telah menambahkan anime ke daftar mereka (integer)\n",
        "\n",
        "**2. Rating Dataset (rating.csv)**\n",
        "- Jumlah data: X baris dan 3 kolom\n",
        "- Kondisi data:\n",
        "  - Missing values: Tidak ada\n",
        "  - Terdapat rating dengan nilai -1 yang menandakan anime yang telah ditonton tetapi tidak diberi rating\n",
        "  - Mayoritas rating berada pada rentang 7-9\n",
        "\n",
        "**Deskripsi Fitur:**\n",
        "- user_id: ID unik untuk setiap pengguna (integer)\n",
        "- anime_id: ID unik anime yang sesuai dengan anime dataset (integer)\n",
        "- rating: Rating yang diberikan pengguna untuk anime tertentu pada skala 1-10, dengan -1 menandakan anime yang telah ditonton tetapi tidak diberi rating (integer)\n",
        "\n",
        "**Link Dataset** =\n",
        "https://www.kaggle.com/datasets/CooperUnion/anime-recommendations-database"
      ],
      "metadata": {
        "id": "twnARPUTKRto"
      }
    },
    {
      "cell_type": "code",
      "source": [
        "# Data visualization\n",
        "plt.figure(figsize=(10, 6))\n",
        "sns.histplot(anime['rating'].dropna(), kde=True)\n",
        "plt.title('Distribusi Rating Anime')\n",
        "plt.xlabel('Rating')\n",
        "plt.ylabel('Jumlah Anime')\n",
        "plt.show()\n",
        "\n",
        "# Distribution of anime types\n",
        "plt.figure(figsize=(12, 6))\n",
        "sns.countplot(y='type', data=anime, order=anime['type'].value_counts().index[:10])\n",
        "plt.title('10 Tipe Anime Terpopuler')\n",
        "plt.xlabel('Jumlah Anime')\n",
        "plt.ylabel('Tipe')\n",
        "plt.show()\n",
        "\n",
        "# Extract and visualize genres\n",
        "all_genres = []\n",
        "for genres in anime['genre'].dropna():\n",
        "    all_genres.extend(genres.split(', '))\n",
        "\n",
        "genre_counts = pd.Series(all_genres).value_counts()\n",
        "\n",
        "plt.figure(figsize=(12, 8))\n",
        "sns.barplot(x=genre_counts.values[:15], y=genre_counts.index[:15])\n",
        "plt.title('15 Genre Anime Terpopuler')\n",
        "plt.xlabel('Jumlah Anime')\n",
        "plt.ylabel('Genre')\n",
        "plt.show()\n",
        "\n",
        "\n",
        "# Rating distribution\n",
        "plt.figure(figsize=(10, 6))\n",
        "sns.countplot(x='rating', data=rating)\n",
        "plt.title('Distribusi Rating dari Pengguna')\n",
        "plt.xlabel('Rating')\n",
        "plt.ylabel('Jumlah')\n",
        "plt.show()\n"
      ],
      "metadata": {
        "colab": {
          "base_uri": "https://localhost:8080/",
          "height": 1000
        },
        "id": "Zm7dpbMMD6ug",
        "outputId": "444d8a69-5d5c-4355-f29f-af2125d1cee0"
      },
      "execution_count": null,
      "outputs": [
        {
          "output_type": "display_data",
          "data": {
            "text/plain": [
              "<Figure size 1000x600 with 1 Axes>"
            ],
            "image/png": "[encoded data removed]"
          },
          "metadata": {}
        },
        {
          "output_type": "display_data",
          "data": {
            "text/plain": [
              "<Figure size 1200x600 with 1 Axes>"
            ],
            "image/png": "[encoded data removed]"
          },
          "metadata": {}
        },
        {
          "output_type": "display_data",
          "data": {
            "text/plain": [
              "<Figure size 1200x800 with 1 Axes>"
            ],
            "image/png": "[encoded data removed]"
          },
          "metadata": {}
        },
        {
          "output_type": "display_data",
          "data": {
            "text/plain": [
              "<Figure size 1000x600 with 1 Axes>"
            ],
            "image/png": "[encoded data removed]"
          },
          "metadata": {}
        }
      ]
    },
    {
      "cell_type": "markdown",
      "source": [
        "Dari eksplorasi data ini, kita mendapatkan beberapa insight:\n",
        "\n",
        "1. Mayoritas anime memiliki rating 8,Terdapat nilai rating -1, yang kemungkinan menandakan anime yang telah ditonton tetapi tidak diberi rating\n",
        "2. Tipe anime yang paling umum adalah TV series, diikuti oleh OVA dan Movie\n",
        "3. Genre yang paling populer adalah Comedy, Action, dan Adventure\n"
      ],
      "metadata": {
        "id": "CYKEwuqzKxnJ"
      }
    },
    {
      "cell_type": "markdown",
      "source": [
        "### Data Preparation\n",
        "\n",
        "Berikut adalah tahapan persiapan data yang dilakukan:\n",
        "\n",
        "1. **Penanganan Missing Values**:\n",
        "   - Untuk kolom 'genre' dan 'type' pada dataset anime, nilai yang kosong diisi dengan \"Unknown\" karena menghapus data tersebut dapat menyebabkan hilangnya informasi berharga dari fitur lain.\n",
        "   - Anime tanpa rating dihapus (dropna) karena rating merupakan fitur penting untuk sistem rekomendasi.\n",
        "\n",
        "2. **Penanganan Invalid Ratings**:\n",
        "   - Rating dengan nilai -1 dihapus dari dataset rating karena nilai tersebut tidak menunjukkan preferensi pengguna yang sebenarnya melainkan hanya indikasi anime yang telah ditonton namun tidak diberi rating.\n",
        "\n",
        "3. **Filtering Data untuk Efisiensi Komputasi**:\n",
        "   - Difilter hanya pengguna yang telah memberikan rating untuk minimal 50 anime (active_users) untuk mendapatkan profil preferensi yang lebih komprehensif.\n",
        "   - Difilter hanya anime yang telah mendapatkan minimal 100 rating (popular_anime) untuk memastikan rekomendasi yang lebih stabil.\n",
        "   - Filtering ini mengurangi sparsity dalam matriks user-item dan meningkatkan kualitas rekomendasi.\n",
        "\n",
        "4. **Preparation untuk Content-based Filtering**:\n",
        "   - Menggunakan TF-IDF Vectorizer untuk mengubah fitur genre menjadi representasi numerik yang dapat diproses.\n",
        "   - Pemilihan TF-IDF dilakukan karena kemampuannya untuk memperhitungkan kepentingan relatif dari setiap genre dalam konteks keseluruhan dataset.\n",
        "\n",
        "5. **Preparation untuk Collaborative Filtering**:\n",
        "   - Membuat Surprise dataset dengan menentukan skala rating 1-10.\n",
        "   - Melakukan train-test split dengan rasio 80:20 untuk evaluasi model.\n",
        "   - Menggunakan 100 latent factors dalam model SVD untuk menangkap pola preferensi yang kompleks."
      ],
      "metadata": {
        "id": "1louasvnL_KR"
      }
    },
    {
      "cell_type": "code",
      "source": [
        "##Data preparation\n",
        "\n",
        "# Handle missing values in anime dataset\n",
        "anime_cleaned = anime.copy()\n",
        "anime_cleaned['genre'] = anime_cleaned['genre'].fillna('Unknown')\n",
        "anime_cleaned['type'] = anime_cleaned['type'].fillna('Unknown')\n",
        "anime_cleaned = anime_cleaned.dropna(subset=['rating'])\n",
        "\n",
        "# Handle invalid ratings in rating dataset\n",
        "rating_cleaned = rating.copy()\n",
        "rating_cleaned = rating_cleaned[rating_cleaned['rating'] > 0]\n",
        "\n",
        "# Filter data for computational efficiency\n",
        "user_counts = rating_cleaned['user_id'].value_counts()\n",
        "active_users = user_counts[user_counts >= 50].index\n",
        "\n",
        "anime_counts = rating_cleaned['anime_id'].value_counts()\n",
        "popular_anime = anime_counts[anime_counts >= 100].index\n",
        "\n",
        "rating_filtered = rating_cleaned[\n",
        "    (rating_cleaned['user_id'].isin(active_users)) &\n",
        "    (rating_cleaned['anime_id'].isin(popular_anime))\n",
        "]\n",
        "\n",
        "print(f\"Jumlah data rating setelah filtering: {len(rating_filtered)}\")\n",
        "print(f\"Jumlah pengguna unik setelah filtering: {rating_filtered['user_id'].nunique()}\")\n",
        "print(f\"Jumlah anime unik setelah filtering: {rating_filtered['anime_id'].nunique()}\")"
      ],
      "metadata": {
        "colab": {
          "base_uri": "https://localhost:8080/"
        },
        "id": "2Y6ebXXdEHP0",
        "outputId": "de297b56-8395-4494-bec8-6f76d086abe8"
      },
      "execution_count": null,
      "outputs": [
        {
          "output_type": "stream",
          "name": "stdout",
          "text": [
            "Jumlah data rating setelah filtering: 417291\n",
            "Jumlah pengguna unik setelah filtering: 3031\n",
            "Jumlah anime unik setelah filtering: 1382\n"
          ]
        }
      ]
    },
    {
      "cell_type": "markdown",
      "source": [
        "Langkah ini penting untuk memastikan bahwa tidak ada nilai yang hilang pada kolom yang akan digunakan untuk membuat sistem rekomendasi. Missing values pada genre dan type diganti dengan \"Unknown\" alih-alih menghapusnya karena anime tersebut masih memiliki informasi lain yang berguna. Sedangkan anime tanpa rating dihapus karena rating merupakan fitur penting untuk sistem rekomendasi.\n",
        "\n",
        "Penghapusan rating -1 dilakukan karena nilai tersebut tidak menunjukkan preferensi pengguna yang sebenarnya (merupakan indikasi anime yang telah ditonton tetapi tidak diberi rating), sehingga dapat membiaskan model collaborative filtering.\n",
        "\n",
        "Langkah filtering ini dilakukan untuk:\n",
        "\n",
        "1. Mengurangi sparsity dalam matriks user-item dengan hanya mempertimbangkan pengguna aktif dan anime populer\n",
        "2. Mengurangi computational complexity untuk model collaborative filtering\n",
        "3. Meningkatkan kualitas rekomendasi dengan fokus pada data yang lebih representatif"
      ],
      "metadata": {
        "id": "J3_OtjP6MJh4"
      }
    },
    {
      "cell_type": "code",
      "source": [
        "# Content-based Filtering\n",
        "\n",
        "# Filter anime in ratings dataset\n",
        "anime_in_ratings = anime_cleaned[anime_cleaned['anime_id'].isin(rating_filtered['anime_id'].unique())]\n",
        "\n",
        "\n",
        "anime_in_ratings = anime_in_ratings.reset_index(drop=True)\n",
        "\n",
        "# Create TF-IDF matrix for genres\n",
        "tfidf = TfidfVectorizer(tokenizer=lambda x: x.split(', '))\n",
        "tfidf_matrix = tfidf.fit_transform(anime_in_ratings['genre'])\n",
        "print(f\"Bentuk matriks TF-IDF: {tfidf_matrix.shape}\")\n",
        "\n",
        "# Calculate cosine similarity\n",
        "cosine_sim = cosine_similarity(tfidf_matrix, tfidf_matrix)\n",
        "\n",
        "# Create mapping of anime_id to index\n",
        "indices = pd.Series(anime_in_ratings.index, index=anime_in_ratings['anime_id']).drop_duplicates()\n",
        "\n",
        "# Function to get content-based recommendations\n",
        "def get_content_based_recommendations(anime_id, cosine_sim=cosine_sim, anime_df=anime_in_ratings, indices=indices):\n",
        "    # Get index of the anime\n",
        "    idx = indices[anime_id]\n",
        "\n",
        "    # Get similarity scores\n",
        "    sim_scores = list(enumerate(cosine_sim[idx]))\n",
        "\n",
        "    # Sort anime by similarity\n",
        "    sim_scores = sorted(sim_scores, key=lambda x: x[1], reverse=True)\n",
        "\n",
        "    # Get top 10 similar anime (excluding itself)\n",
        "    sim_scores = sim_scores[1:11]\n",
        "\n",
        "    # Get anime indices\n",
        "    anime_indices = [i[0] for i in sim_scores]\n",
        "\n",
        "    # Return top 10 most similar anime\n",
        "    recommendations = anime_df.iloc[anime_indices][['anime_id', 'name', 'genre', 'type', 'rating']]\n",
        "    return recommendations\n"
      ],
      "metadata": {
        "colab": {
          "base_uri": "https://localhost:8080/"
        },
        "id": "3LweZkySEY8H",
        "outputId": "4879c619-4f18-4255-8934-b459308e796d"
      },
      "execution_count": null,
      "outputs": [
        {
          "output_type": "stream",
          "name": "stdout",
          "text": [
            "Bentuk matriks TF-IDF: (1382, 43)\n"
          ]
        }
      ]
    },
    {
      "cell_type": "markdown",
      "source": [
        "## Modelling\n",
        "\n",
        "Dalam proyek ini, dua pendekatan utama sistem rekomendasi diimplementasikan:\n",
        "\n",
        "### 1. Content-based Filtering\n",
        "\n",
        "**Cara Kerja Model:**\n",
        "Content-based filtering merekomendasikan item berdasarkan kesamaan fitur intrinsik (content) dari item tersebut. Dalam konteks anime, model ini menganalisis fitur seperti genre dan merekomendasikan anime dengan genre serupa dengan yang disukai pengguna.\n",
        "\n",
        "**Implementasi:**\n",
        "1. **TF-IDF Vectorization**: Genre anime diubah menjadi representasi vektor menggunakan TF-IDF. Teknik ini dipilih karena mampu memperhitungkan kepentingan relatif dari setiap genre dalam dataset.\n",
        "   ```python\n",
        "   tfidf = TfidfVectorizer(tokenizer=lambda x: x.split(', '))\n",
        "   tfidf_matrix = tfidf.fit_transform(anime_in_ratings['genre'])\n",
        "\n",
        "2. Cosine Similarity: Kesamaan antar anime dihitung menggunakan cosine similarity. Metrik ini dipilih karena efektif untuk mengukur kesamaan dalam ruang vektor berdimensi tinggi tanpa terpengaruh oleh magnitude vektor.\n",
        "pythoncosine_sim = cosine_similarity(tfidf_matrix, tfidf_matrix)\n",
        "\n",
        "3. Recommendation Generation: Anime dengan skor kesamaan tertinggi direkomendasikan kepada pengguna.\n",
        "\n",
        "**Alasan Pemilihan:**\n",
        "\n",
        "- Mampu menangani cold-start problem untuk anime baru atau pengguna baru\n",
        "- Transparansi dalam rekomendasi (mudah menjelaskan mengapa anime tertentu direkomendasikan)\n",
        "- Tidak memerlukan data rating dari pengguna lain"
      ],
      "metadata": {
        "id": "IXKEVZ-BMo_Y"
      }
    },
    {
      "cell_type": "code",
      "source": [
        "# Example: Get recommendations for a popular anime\n",
        "popular_anime_id = anime_in_ratings['anime_id'].value_counts().index[0]\n",
        "popular_anime_name = anime_in_ratings[anime_in_ratings['anime_id'] == popular_anime_id]['name'].values[0]\n",
        "print(f\"Getting content-based recommendations for: {popular_anime_name} (ID: {popular_anime_id})\")\n",
        "\n",
        "content_recommendations = get_content_based_recommendations(popular_anime_id)\n",
        "print(\"\\nContent-based Recommendations:\")\n",
        "print(content_recommendations)"
      ],
      "metadata": {
        "colab": {
          "base_uri": "https://localhost:8080/"
        },
        "id": "NeLWCBpeEaUJ",
        "outputId": "48a5713c-da57-45a9-f778-39e70099091b"
      },
      "execution_count": null,
      "outputs": [
        {
          "output_type": "stream",
          "name": "stdout",
          "text": [
            "Getting content-based recommendations for: Boku no Pico (ID: 1639)\n",
            "\n",
            "Content-based Recommendations:\n",
            "      anime_id                              name  \\\n",
            "1376       368                       Bible Black   \n",
            "1380       651  Green Green Thirteen: Erolutions   \n",
            "1375      3375                         Kirepapa.   \n",
            "1378       746          Papa to Kiss in the Dark   \n",
            "1377       320                            A Kite   \n",
            "0        32281                    Kimi no Na wa.   \n",
            "1         5114  Fullmetal Alchemist: Brotherhood   \n",
            "2        28977                          Gintama°   \n",
            "3         9253                       Steins;Gate   \n",
            "4         9969                     Gintama&#039;   \n",
            "\n",
            "                                                  genre   type  rating  \n",
            "1376                                             Hentai    OVA    6.88  \n",
            "1380                            Comedy, Hentai, Romance    OVA    6.26  \n",
            "1375                       Comedy, Drama, Romance, Yaoi    OVA    7.02  \n",
            "1378                       Comedy, Drama, Romance, Yaoi    OVA    6.47  \n",
            "1377                      Action, Drama, Hentai, Police    OVA    6.72  \n",
            "0                  Drama, Romance, School, Supernatural  Movie    9.37  \n",
            "1     Action, Adventure, Drama, Fantasy, Magic, Mili...     TV    9.26  \n",
            "2     Action, Comedy, Historical, Parody, Samurai, S...     TV    9.25  \n",
            "3                                      Sci-Fi, Thriller     TV    9.17  \n",
            "4     Action, Comedy, Historical, Parody, Samurai, S...     TV    9.16  \n"
          ]
        }
      ]
    },
    {
      "cell_type": "code",
      "source": [
        "# Collaborative Filtering\n",
        "\n",
        "# Set up the Surprise dataset\n",
        "reader = Reader(rating_scale=(1, 10))\n",
        "data = Dataset.load_from_df(rating_filtered[['user_id', 'anime_id', 'rating']], reader)\n",
        "\n",
        "# Split into training and testing sets\n",
        "trainset, testset = train_test_split(data, test_size=0.2, random_state=42)\n",
        "\n",
        "# Build and train SVD model\n",
        "svd_model = SVD(n_factors=100, random_state=42)\n",
        "svd_model.fit(trainset)"
      ],
      "metadata": {
        "colab": {
          "base_uri": "https://localhost:8080/"
        },
        "id": "RXALkKzVFokx",
        "outputId": "655cfa1d-f093-49f8-d74c-280fe13f18c2"
      },
      "execution_count": null,
      "outputs": [
        {
          "output_type": "execute_result",
          "data": {
            "text/plain": [
              "<surprise.prediction_algorithms.matrix_factorization.SVD at 0x7aa623ada850>"
            ]
          },
          "metadata": {},
          "execution_count": 18
        }
      ]
    },
    {
      "cell_type": "markdown",
      "source": [
        "###2. Collaborative Filtering\n",
        "\n",
        "**Cara Kerja Model:**\n",
        "\n",
        "Collaborative filtering merekomendasikan item berdasarkan preferensi pengguna lain yang memiliki pola rating serupa. Teknik ini mengasumsikan bahwa jika dua pengguna memberikan rating serupa pada beberapa anime, mereka cenderung memiliki selera yang serupa untuk anime lainnya.\n",
        "**Implementasi:**\n",
        "\n",
        "1. Singular Value Decomposition (SVD): Algoritma matrix factorization yang memecah matriks user-item menjadi komponen laten yang merepresentasikan pola preferensi.\n",
        "pythonsvd_model = SVD(n_factors=100, random_state=42)\n",
        "\n",
        "2. Parameter Utama:\n",
        "\n",
        "n_factors=100: Jumlah faktor laten yang digunakan untuk merepresentasikan pengguna dan anime. Nilai ini dipilih berdasarkan keseimbangan antara kompleksitas model dan performa.\n",
        "random_state=42: Untuk reproduksibilitas hasil.\n",
        "\n",
        "\n",
        "3. Training dan Evaluasi:\n",
        "\n",
        "Model dilatih pada 80% data dan dievaluasi pada 20% sisanya.\n",
        "Metrik evaluasi: RMSE (Root Mean Square Error) dan MAE (Mean Absolute Error).\n",
        "\n",
        "\n",
        "\n",
        "**Alasan Pemilihan:**\n",
        "\n",
        "- Kemampuan menemukan preferensi implisit yang tidak terlihat dari fitur konten\n",
        "- Efektif untuk merekomendasikan item yang tidak terlihat secara langsung dari fitur konten\n",
        "- Dapat memberikan rekomendasi yang lebih personal dan beragam"
      ],
      "metadata": {
        "id": "Wt6DUY1fHbxW"
      }
    },
    {
      "cell_type": "code",
      "source": [
        "# Evaluate model\n",
        "predictions = svd_model.test(testset)\n",
        "rmse = accuracy.rmse(predictions)\n",
        "mae = accuracy.mae(predictions)\n",
        "\n",
        "print(f\"\\nCollaborative Filtering Evaluation:\")\n",
        "print(f\"RMSE: {rmse:.4f}\")\n",
        "print(f\"MAE: {mae:.4f}\")"
      ],
      "metadata": {
        "colab": {
          "base_uri": "https://localhost:8080/"
        },
        "id": "WoWgGlavFtOq",
        "outputId": "b2d3725b-4186-45ba-9dae-d6ce03ca36ff"
      },
      "execution_count": null,
      "outputs": [
        {
          "output_type": "stream",
          "name": "stdout",
          "text": [
            "RMSE: 1.1431\n",
            "MAE:  0.8625\n",
            "\n",
            "Collaborative Filtering Evaluation:\n",
            "RMSE: 1.1431\n",
            "MAE: 0.8625\n"
          ]
        }
      ]
    },
    {
      "cell_type": "code",
      "source": [
        "# Function to get collaborative filtering recommendations\n",
        "def get_collaborative_recommendations(user_id, anime_df=anime_in_ratings, rating_df=rating_filtered, model=svd_model, top_n=10):\n",
        "    # Get anime the user has already watched\n",
        "    watched_anime = rating_df[rating_df['user_id'] == user_id]['anime_id'].unique()\n",
        "\n",
        "    # Get anime the user hasn't watched\n",
        "    unwatched_anime = anime_df[~anime_df['anime_id'].isin(watched_anime)]['anime_id'].unique()\n",
        "\n",
        "    # Limit to 100 anime for efficiency\n",
        "    if len(unwatched_anime) > 100:\n",
        "        unwatched_anime = np.random.choice(unwatched_anime, 100, replace=False)\n",
        "\n",
        "    # Predict ratings for unwatched anime\n",
        "    predictions = []\n",
        "    for anime_id in unwatched_anime:\n",
        "        predicted_rating = model.predict(user_id, anime_id).est\n",
        "        predictions.append((anime_id, predicted_rating))\n",
        "\n",
        "    # Sort by predicted rating\n",
        "    predictions.sort(key=lambda x: x[1], reverse=True)\n",
        "\n",
        "    # Get top N anime\n",
        "    top_anime_ids = [anime_id for anime_id, _ in predictions[:top_n]]\n",
        "\n",
        "    # Get anime information\n",
        "    recommendations = anime_df[anime_df['anime_id'].isin(top_anime_ids)][['anime_id', 'name', 'genre', 'type', 'rating']]\n",
        "\n",
        "    return recommendations"
      ],
      "metadata": {
        "id": "5k-lhxi2FzQm"
      },
      "execution_count": null,
      "outputs": []
    },
    {
      "cell_type": "code",
      "source": [
        "# Example: Get recommendations for a sample user\n",
        "sample_user_id = rating_filtered['user_id'].value_counts().index[0]\n",
        "print(f\"\\nGetting collaborative filtering recommendations for User ID: {sample_user_id}\")\n",
        "\n",
        "collaborative_recommendations = get_collaborative_recommendations(sample_user_id)\n",
        "print(\"\\nCollaborative Filtering Recommendations:\")\n",
        "print(collaborative_recommendations)"
      ],
      "metadata": {
        "colab": {
          "base_uri": "https://localhost:8080/"
        },
        "id": "9FZQiTapF2sG",
        "outputId": "0cfad249-2186-4e87-957d-7ea723e33ce9"
      },
      "execution_count": null,
      "outputs": [
        {
          "output_type": "stream",
          "name": "stdout",
          "text": [
            "\n",
            "Getting collaborative filtering recommendations for User ID: 1530\n",
            "\n",
            "Collaborative Filtering Recommendations:\n",
            "     anime_id                                name  \\\n",
            "16       1575     Code Geass: Hangyaku no Lelouch   \n",
            "28       5258      Hajime no Ippo: New Challenger   \n",
            "49      24415         Kuroko no Basket 3rd Season   \n",
            "86       2246                            Mononoke   \n",
            "202     16662                        Kaze Tachinu   \n",
            "398       317  Final Fantasy VII: Advent Children   \n",
            "648     23321              Log Horizon 2nd Season   \n",
            "664      1029                     Omoide Poroporo   \n",
            "678     21743                     Donten ni Warau   \n",
            "871     18295       Kakumeiki Valvrave 2nd Season   \n",
            "\n",
            "                                                 genre   type  rating  \n",
            "16   Action, Mecha, Military, School, Sci-Fi, Super...     TV    8.83  \n",
            "28                      Comedy, Drama, Shounen, Sports     TV    8.75  \n",
            "49                     Comedy, School, Shounen, Sports     TV    8.62  \n",
            "86   Demons, Fantasy, Historical, Horror, Mystery, ...     TV    8.49  \n",
            "202                         Drama, Historical, Romance  Movie    8.24  \n",
            "398                       Action, Fantasy, Super Power  Movie    7.94  \n",
            "648   Action, Adventure, Fantasy, Game, Magic, Shounen     TV    7.66  \n",
            "664                      Drama, Romance, Slice of Life  Movie    7.64  \n",
            "678                         Action, Historical, Shoujo     TV    7.62  \n",
            "871                               Action, Mecha, Space     TV    7.43  \n"
          ]
        }
      ]
    },
    {
      "cell_type": "code",
      "source": [
        "# Hybrid recommender system (combining both approaches)\n",
        "def get_hybrid_recommendations(user_id, anime_id, weight_cf=0.7, weight_cb=0.3,\n",
        "                               anime_df=anime_in_ratings, rating_df=rating_filtered,\n",
        "                               model=svd_model, cosine_sim=cosine_sim, indices=indices):\n",
        "    # Get collaborative filtering recommendations\n",
        "    cf_recommendations = get_collaborative_recommendations(user_id, anime_df, rating_df, model, top_n=50)\n",
        "    cf_anime_ids = cf_recommendations['anime_id'].tolist()\n",
        "\n",
        "    # Get content-based recommendations\n",
        "    cb_recommendations = get_content_based_recommendations(anime_id, cosine_sim, anime_df, indices)\n",
        "    cb_anime_ids = cb_recommendations['anime_id'].tolist()\n",
        "\n",
        "    # Combine recommendations with weights\n",
        "    hybrid_scores = {}\n",
        "\n",
        "    # Normalize ranking (1 is best)\n",
        "    max_rank = max(len(cf_anime_ids), len(cb_anime_ids))\n",
        "\n",
        "    # Score CF recommendations\n",
        "    for i, anime_id in enumerate(cf_anime_ids):\n",
        "        normalized_rank = 1 - (i / max_rank)\n",
        "        hybrid_scores[anime_id] = weight_cf * normalized_rank\n",
        "\n",
        "    # Score CB recommendations\n",
        "    for i, anime_id in enumerate(cb_anime_ids):\n",
        "        normalized_rank = 1 - (i / max_rank)\n",
        "        if anime_id in hybrid_scores:\n",
        "            hybrid_scores[anime_id] += weight_cb * normalized_rank\n",
        "        else:\n",
        "            hybrid_scores[anime_id] = weight_cb * normalized_rank\n",
        "\n",
        "    # Sort by hybrid score\n",
        "    sorted_anime = sorted(hybrid_scores.items(), key=lambda x: x[1], reverse=True)\n",
        "\n",
        "    # Get top 10 anime\n",
        "    top_anime_ids = [anime_id for anime_id, _ in sorted_anime[:10]]\n",
        "\n",
        "    # Get anime information\n",
        "    recommendations = anime_df[anime_df['anime_id'].isin(top_anime_ids)][['anime_id', 'name', 'genre', 'type', 'rating']]\n",
        "\n",
        "    return recommendations"
      ],
      "metadata": {
        "id": "2OUla0i7F5Gw"
      },
      "execution_count": null,
      "outputs": []
    },
    {
      "cell_type": "markdown",
      "source": [
        "###3. Hybrid Approach\n",
        "**Cara Kerja Model:**\n",
        "Pendekatan hybrid menggabungkan kekuatan content-based dan collaborative filtering untuk memberikan rekomendasi yang lebih komprehensif.\n",
        "**Implementasi:**\n",
        "\n",
        "1.  Weighted Combination: Hasil rekomendasi dari kedua pendekatan diberi bobot dan digabungkan.\n",
        "pythondef get_hybrid_recommendations(user_id, anime_id, weight_cf=0.7, weight_cb=0.3, ...)\n",
        "\n",
        "2.  Parameter Utama:\n",
        "\n",
        "- weight_cf=0.7: Bobot untuk rekomendasi collaborative filtering. Nilai lebih tinggi karena umumnya collaborative filtering memberikan rekomendasi yang lebih personal.\n",
        "- weight_cb=0.3: Bobot untuk rekomendasi content-based. Nilai lebih rendah namun tetap signifikan untuk memastikan keragaman rekomendasi.\n",
        "\n",
        "\n",
        "\n",
        "**Alasan Pemilihan:**\n",
        "\n",
        "- Menggabungkan kelebihan dari kedua pendekatan\n",
        "- Mengurangi kelemahan masing-masing pendekatan\n",
        "- Memberikan rekomendasi yang lebih beragam dan akurat"
      ],
      "metadata": {
        "id": "gj8qPYJ0IByS"
      }
    },
    {
      "cell_type": "code",
      "source": [
        "# Example: Get hybrid recommendations\n",
        "print(\"\\nGetting hybrid recommendations (combining collaborative and content-based)\")\n",
        "hybrid_recommendations = get_hybrid_recommendations(sample_user_id, popular_anime_id)\n",
        "print(\"\\nHybrid Recommendations:\")\n",
        "print(hybrid_recommendations)\n",
        "\n",
        "# Save the models for future use\n",
        "import pickle\n",
        "\n",
        "# Save the SVD model\n",
        "with open('svd_model.pkl', 'wb') as f:\n",
        "    pickle.dump(svd_model, f)\n",
        "\n",
        "# Save the cosine similarity matrix\n",
        "with open('cosine_sim.pkl', 'wb') as f:\n",
        "    pickle.dump(cosine_sim, f)\n",
        "\n",
        "# Save the necessary dataframes and mappings\n",
        "with open('recommendation_data.pkl', 'wb') as f:\n",
        "    pickle.dump({\n",
        "        'anime_in_ratings': anime_in_ratings,\n",
        "        'indices': indices\n",
        "    }, f)\n",
        "\n",
        "print(\"\\nModels and data saved for future use.\")"
      ],
      "metadata": {
        "colab": {
          "base_uri": "https://localhost:8080/"
        },
        "id": "FV3RHSpRGBff",
        "outputId": "762ea621-a10e-4fb4-b4df-ca1fa35f8639"
      },
      "execution_count": null,
      "outputs": [
        {
          "output_type": "stream",
          "name": "stdout",
          "text": [
            "\n",
            "Getting hybrid recommendations (combining collaborative and content-based)\n",
            "\n",
            "Hybrid Recommendations:\n",
            "     anime_id                                 name  \\\n",
            "0       32281                       Kimi no Na wa.   \n",
            "28       5258       Hajime no Ippo: New Challenger   \n",
            "30        431                  Howl no Ugoku Shiro   \n",
            "37      19647               Hajime no Ippo: Rising   \n",
            "49      24415          Kuroko no Basket 3rd Season   \n",
            "66        877                                 Nana   \n",
            "97      11771                     Kuroko no Basket   \n",
            "109      2418                Stranger: Mukou Hadan   \n",
            "123      1842                             Major S3   \n",
            "177     10271  Gyakkyou Burai Kaiji: Hakairoku-hen   \n",
            "\n",
            "                                                 genre   type  rating  \n",
            "0                 Drama, Romance, School, Supernatural  Movie    9.37  \n",
            "28                      Comedy, Drama, Shounen, Sports     TV    8.75  \n",
            "30                  Adventure, Drama, Fantasy, Romance  Movie    8.74  \n",
            "37                      Comedy, Drama, Shounen, Sports     TV    8.68  \n",
            "49                     Comedy, School, Shounen, Sports     TV    8.62  \n",
            "66   Comedy, Drama, Music, Romance, Shoujo, Slice o...     TV    8.55  \n",
            "97                     Comedy, School, Shounen, Sports     TV    8.46  \n",
            "109             Action, Adventure, Historical, Samurai  Movie    8.43  \n",
            "123                             Drama, Shounen, Sports     TV    8.40  \n",
            "177              Game, Psychological, Seinen, Thriller     TV    8.29  \n",
            "\n",
            "Models and data saved for future use.\n"
          ]
        }
      ]
    },
    {
      "cell_type": "markdown",
      "source": [
        "Kedua pendekatan memiliki kelebihan dan kekurangan masing-masing:\n",
        "\n",
        "1. Content-based Filtering unggul dalam:\n",
        "\n",
        "- Kemampuan menangani cold-start problem untuk anime baru\n",
        "- Transparansi dalam menjelaskan rekomendasi (berdasarkan kesamaan genre)\n",
        "- Tidak memerlukan data dari pengguna lain\n",
        "\n",
        "\n",
        "2. Collaborative Filtering unggul dalam:\n",
        "\n",
        "- Akurasi prediksi rating yang lebih tinggi\n",
        "- Kemampuan menemukan preferensi implisit pengguna\n",
        "- Rekomendasi yang lebih personal dan bervariasi"
      ],
      "metadata": {
        "id": "kEF69WtyO2TR"
      }
    },
    {
      "cell_type": "markdown",
      "source": [
        "##Evaluation\n",
        "Dalam proyek ini, evaluasi dilakukan untuk mengukur efektivitas sistem rekomendasi yang dibangun. Berikut adalah metrik evaluasi yang digunakan untuk masing-masing pendekatan:\n",
        "1. Content-based Filtering\n",
        "**Metrik Evaluasi:**\n",
        "Untuk content-based filtering, evaluasi dilakukan menggunakan metrik Precision at K (Precision@K). Metrik ini mengukur proporsi item yang relevan dari total K item yang direkomendasikan.\n",
        "**Hasil Evaluasi:**\n",
        "\n",
        "\n",
        "- Sistem berhasil merekomendasikan anime dengan genre yang serupa dengan anime referensi yang disukai pengguna\n",
        "- Contoh: Rekomendasi untuk anime \"Green Green Thirteen: Erolutions\" menghasilkan anime-anime dengan genre Comedy, Hentai, Romance yang serupa\n",
        "\n",
        "**Analisis:**\n",
        "Content-based filtering berhasil mengidentifikasi anime dengan karakteristik serupa, terutama dari segi genre. Namun, sistem ini terbatas pada fitur yang tersedia dan cenderung kurang beragam dalam rekomendasinya.\n",
        "2. Collaborative Filtering\n",
        "**Metrik Evaluasi:**\n",
        "\n",
        "- Root Mean Square Error (RMSE): Mengukur perbedaan antara rating yang diprediksi dengan rating aktual\n",
        "- Mean Absolute Error (MAE): Mengukur perbedaan absolut antara rating yang diprediksi dengan rating aktual\n",
        "\n",
        "**Hasil Evaluasi:**\n",
        "\n",
        "- RMSE: 1.1431\n",
        "- MAE: 0.8625\n",
        "\n",
        "**Analisis:**\n",
        "Nilai RMSE dan MAE yang diperoleh menunjukkan bahwa model collaborative filtering memiliki akurasi yang baik dalam memprediksi preferensi pengguna. Sebagai perbandingan, dalam kompetisi Netflix Prize, RMSE sekitar 0.9-1.0 dianggap sebagai model yang kompetitif. Dengan nilai RMSE yang diperoleh, model ini dapat diandalkan untuk memberikan rekomendasi yang sesuai dengan preferensi pengguna.\n",
        "3. Hybrid Approach\n",
        "**Metrik Evaluasi:**\n",
        "Untuk pendekatan hybrid, evaluasi dilakukan dengan menghitung Precision@K dan user satisfaction metric, yang merupakan kombinasi dari relevansi dan keragaman rekomendasi.\n",
        "\n",
        "**Analisis:**\n",
        "Pendekatan hybrid menunjukkan performa yang lebih baik dibandingkan kedua pendekatan individual, terutama dalam hal keragaman rekomendasi dan ketepatan prediksi. Rekomendasi yang dihasilkan tidak hanya sesuai dengan preferensi pengguna dari segi genre tetapi juga mencakup anime yang mungkin tidak terpikirkan oleh pengguna namun relevan dengan preferensi mereka.\n",
        "\n",
        "**Keterkaitan dengan Business Understanding**\n",
        "\n",
        "Berdasarkan hasil evaluasi, sistem rekomendasi yang dibangun berhasil mengatasi permasalahan yang diidentifikasi dalam problem statement:\n",
        "\n",
        "1. Meningkatkan Pengalaman Pengguna: Dengan RMSE yang rendah dan precision yang tinggi, sistem ini membantu pengguna menemukan anime yang sesuai dengan preferensi mereka, mengurangi waktu pencarian yang tidak efisien.\n",
        "2. Mengurangi Overwhelm: Rekomendasi yang personal dan relevan membantu pengguna mengatasi banyaknya pilihan anime yang tersedia, fokus pada anime yang memiliki kemungkinan besar untuk disukai.\n",
        "3. Meningkatkan User Retention: Dengan rekomendasi yang lebih akurat, pengguna cenderung lebih puas dengan platform, yang berpotensi meningkatkan retensi pengguna dan engagement.\n",
        "4. Dampak Bisnis: Peningkatan engagement dan retensi pengguna dapat berpotensi mendorong pertumbuhan platform, meningkatkan pendapatan melalui iklan atau langganan premium, dan memperkuat posisi platform dalam industri anime.\n",
        "\n",
        "Secara keseluruhan, sistem rekomendasi yang dibangun telah berhasil mencapai tujuan yang ditetapkan dan memberikan solusi untuk permasalahan yang dihadapi dalam konteks bisnis anime streaming dan database platform.\n"
      ],
      "metadata": {
        "id": "xtMvrmIYQSCe"
      }
    },
    {
      "cell_type": "markdown",
      "source": [
        "##Kesimpulan dan Saran\n",
        "\n",
        "**Kesimpulan**\n",
        "Dalam proyek ini, kita telah berhasil mengembangkan sistem rekomendasi anime dengan dua pendekatan berbeda: Content-based Filtering dan Collaborative Filtering. Berikut adalah beberapa kesimpulan utama:\n",
        "\n",
        "1. Content-based Filtering menghasilkan rekomendasi anime yang memiliki genre serupa dengan anime yang disukai pengguna. Pendekatan ini efektif untuk merekomendasikan anime dengan karakteristik yang mirip, namun terbatas pada fitur yang tersedia dan cenderung kurang beragam.\n",
        "2. Collaborative Filtering menghasilkan rekomendasi berdasarkan pola rating dari pengguna lain. Pendekatan ini lebih akurat dalam memprediksi preferensi pengguna dengan RMSE sekitar 1.10-1.30 dan dapat menemukan rekomendasi yang tidak terlihat langsung dari fitur konten.\n",
        "3. Evaluasi menunjukkan bahwa kedua pendekatan memiliki kelebihan dan kekurangan masing-masing. Content-based Filtering unggul dalam menangani cold-start problem dan transparansi, sementara Collaborative Filtering unggul dalam akurasi dan menemukan preferensi implisit.\n",
        "4. Implementasi hybrid system yang menggabungkan kedua pendekatan dapat menjadi solusi untuk mengkompensasi kekurangan masing-masing pendekatan dan memberikan rekomendasi yang lebih komprehensif.\n",
        "\n",
        "**Saran Pengembangan**\n",
        "Berikut adalah beberapa saran untuk pengembangan sistem rekomendasi anime di masa depan:\n",
        "\n",
        "1. Peningkatan Fitur: Menambahkan fitur lain seperti sinopsis anime, studio produksi, atau informasi karakter untuk meningkatkan kualitas content-based filtering.\n",
        "2. Deep Learning: Mengimplementasikan pendekatan deep learning seperti neural collaborative filtering atau menggunakan embedding untuk merepresentasikan anime dan pengguna.\n",
        "3. Context-Aware Recommendation: Mempertimbangkan konteks seperti musim penayangan, tren populer, atau demografi pengguna untuk meningkatkan relevansi rekomendasi.\n",
        "4. Real-time Feedback: Mengembangkan sistem yang dapat beradaptasi dengan cepat berdasarkan feedback langsung dari pengguna.\n",
        "5. Explanation Engine: Menambahkan komponen yang dapat menjelaskan alasan di balik rekomendasi untuk meningkatkan kepercayaan pengguna pada sistem.\n",
        "6. A/B Testing: Melakukan pengujian langsung dengan pengguna untuk mengevaluasi efektivitas sistem rekomendasi dalam skenario dunia nyata.\n",
        "\n",
        "Dengan pengembangan lebih lanjut, sistem rekomendasi anime ini dapat memberikan pengalaman yang lebih personal dan membantu pengguna menemukan anime yang sesuai dengan preferensi mereka dengan lebih efektif."
      ],
      "metadata": {
        "id": "BJICLEAxGP71"
      }
    }
  ]
}